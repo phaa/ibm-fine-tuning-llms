{
 "cells": [
  {
   "cell_type": "markdown",
   "id": "b7b31ab7-cfe3-497d-b8ab-7af19747f74e",
   "metadata": {},
   "source": [
    "<p style=\"text-align:center\">\n",
    "    <a href=\"https://skills.network\" target=\"_blank\">\n",
    "    <img src=\"https://cf-courses-data.s3.us.cloud-object-storage.appdomain.cloud/assets/logos/SN_web_lightmode.png\" width=\"200\" alt=\"Skills Network Logo\"  />\n",
    "    </a>\n",
    "</p>\n"
   ]
  },
  {
   "cell_type": "markdown",
   "id": "2de0d41d-1eae-480c-94c1-8502848519b5",
   "metadata": {},
   "source": [
    "# **Direct Preference Optimization (DPO) Using Hugging Face**\n"
   ]
  },
  {
   "cell_type": "markdown",
   "id": "d137eb01-2450-4bae-bbc5-dc0dab787418",
   "metadata": {},
   "source": [
    "Estimated time needed: **60** minutes\n"
   ]
  },
  {
   "cell_type": "markdown",
   "id": "b5b8a0c8-3941-4722-a66b-f34d97e0a2c1",
   "metadata": {},
   "source": [
    "Large language models (LLMs) have revolutionized the field of natural language processing (NLP) by achieving remarkable performance in various tasks. However, it is challenging to align these models with human preferences. Therefore, the direct preference optimization (DPO) method comes in place which directly optimizes LLMs based models on user preferences, enhancing their alignment with human expectations. In this hands-on lab, you'll use the transformer reinforcement learning (trl) library from Hugging Face to implement DPO and fine-tune LLMs.\n",
    "\n",
    "The objective of this lab is to provide a practical understanding of the DPO method and its implementation using the trl library. \n",
    "\n",
    "By the end of this lab, you'll have hands-on experience in creating a data set formatted for DPO, implementing the optimization process, and evaluating the enhanced performance of LLMs.\n"
   ]
  },
  {
   "cell_type": "markdown",
   "id": "47cc96d3-2919-43cf-acd6-cabc13c0fd5a",
   "metadata": {},
   "source": [
    "## __Table of Contents__\n",
    "\n",
    "<ol>\n",
    "    <li><a href=\"#Objectives\">Objectives</a></li>\n",
    "    <li>\n",
    "        <a href=\"#Setup\">Setup</a>\n",
    "        <ol>\n",
    "            <li><a href=\"#Installing-required-libraries\">Installing required libraries</a></li>\n",
    "            <li><a href=\"#Importing-required-libraries\">Importing required libraries</a></li>\n",
    "        </ol>\n",
    "    </li>\n",
    "    <li>\n",
    "        <a href=\"#Create-and-configure-the-model-and-tokenizer\">Create and configure the model and tokenizer</a>\n",
    "        <ol>\n",
    "            <li><a href=\"#Quantized-model-configuration-(Optional)\">Quantized model configuration (Optional)</a></li>\n",
    "        </ol>\n",
    "    </li>\n",
    "    <li><a href=\"#Preprocess-dataset\">Preprocess dataset</a></li>\n",
    "    <li><a href=\"#DPO-configuration\">DPO configuration</a></li>\n",
    "    <li><a href=\"#DPO-training\">DPO training</a></li>\n",
    "    <li><a href=\"#Exercise\">Exercise</a>\n",
    "</ol>\n",
    "   \n"
   ]
  },
  {
   "cell_type": "markdown",
   "id": "e11b052c-2fcf-41a4-8cd1-6cac9e44e768",
   "metadata": {},
   "source": [
    "## Objectives\n",
    "\n",
    "After completing this lab, you'll be able to: \n",
    "- Understand the fundamentals of DPO and how it is different from proximal policy optimization (PPO)\n",
    "- Set up an environment by installing and configuring necessary tools and libraries, such as trl library from Hugging Face\n",
    "- Prepare a suitable environment for running DPO experiments with LLMs\n",
    "- Create a data set for DPO\n",
    "- Understand the required format for data sets used in DPO\n",
    "- Create and preprocess a data set that includes user preferences\n",
    "- Implement DPO by following a step-by-step guideline using the trl library\n",
    "- Set training arguments, create a base quantized LoRA model, and train it using a DPO trainer\n",
    "- Evaluate the performance of the LLM before and after applying DPO\n",
    "- Analyze the impact of DPO on aligning the model with user preferences\n",
    "\n",
    "By the end of this hands-on lab, you will be equipped with the knowledge and skills needed to apply DPO for fine-tuning LLMs using the trl library. This will enable you to enhance LLMs' performance and user alignment in various NLP applications.\n"
   ]
  },
  {
   "cell_type": "markdown",
   "id": "10944e29-c80d-4941-b011-2d14e04574d2",
   "metadata": {},
   "source": [
    "----\n"
   ]
  },
  {
   "cell_type": "markdown",
   "id": "a94a5cf3-64a6-4d2f-8285-aa7f3adc753a",
   "metadata": {},
   "source": [
    "## Setup\n"
   ]
  },
  {
   "cell_type": "markdown",
   "id": "e4d02ed1-d359-424a-969c-aa3a6abaa55e",
   "metadata": {},
   "source": [
    "### Installing required libraries\n"
   ]
  },
  {
   "cell_type": "markdown",
   "id": "3df099eb-dda9-49ec-841e-4f2c342be733",
   "metadata": {},
   "source": [
    "The following required libraries are __not__ pre-installed in the Skills Network Labs environment. You will need to run the following cell to install them.\n",
    "\n",
    "**Note:** In this lab, you don't have a pinned version to demonstrate the latest functionality, but you can always pin versions in your labs.\n"
   ]
  },
  {
   "cell_type": "code",
   "execution_count": null,
   "id": "526e16af-5b85-4f16-bba1-c97eff3feaa1",
   "metadata": {},
   "outputs": [],
   "source": [
    "#!pip install torch==2.3.1\n",
    "#!pip install --user trl==0.11.4 # for optimization training\n",
    "#!pip install peft==0.14.0 # for creating LoRA architecture\n",
    "#!pip install matplotlib==3.9.0 \n",
    "#!pip install pandas\n",
    "#!pip install numpy==1.26.0\n",
    "#!pip install --user datasets==3.2.0"
   ]
  },
  {
   "cell_type": "code",
   "execution_count": null,
   "id": "e1b604d0-1e7f-42c0-90de-7fec7ecbbf87",
   "metadata": {},
   "outputs": [],
   "source": [
    "#!pip install transformers==4.45.2"
   ]
  },
  {
   "cell_type": "code",
   "execution_count": 1,
   "id": "ab8c6140-07c9-41e6-a951-e1c4d1faa627",
   "metadata": {},
   "outputs": [
    {
     "name": "stdout",
     "output_type": "stream",
     "text": [
      "Requirement already satisfied: trl==0.11.0 in /home/pedro/.local/lib/python3.10/site-packages (0.11.0)\n",
      "Requirement already satisfied: torch>=1.4.0 in /home/pedro/anaconda3/envs/torch-env/lib/python3.10/site-packages (from trl==0.11.0) (2.2.0)\n",
      "Requirement already satisfied: transformers>=4.40.0 in /home/pedro/.local/lib/python3.10/site-packages (from trl==0.11.0) (4.43.4)\n",
      "Requirement already satisfied: accelerate in /home/pedro/.local/lib/python3.10/site-packages (from trl==0.11.0) (0.31.0)\n",
      "Requirement already satisfied: datasets in /home/pedro/.local/lib/python3.10/site-packages (from trl==0.11.0) (3.2.0)\n",
      "Requirement already satisfied: tyro>=0.5.11 in /home/pedro/.local/lib/python3.10/site-packages (from trl==0.11.0) (0.9.24)\n",
      "Requirement already satisfied: numpy>=1.18.2 in /home/pedro/anaconda3/envs/torch-env/lib/python3.10/site-packages (from trl==0.11.0) (1.26.0)\n",
      "Requirement already satisfied: filelock in /home/pedro/anaconda3/envs/torch-env/lib/python3.10/site-packages (from torch>=1.4.0->trl==0.11.0) (3.18.0)\n",
      "Requirement already satisfied: typing-extensions>=4.8.0 in /home/pedro/.local/lib/python3.10/site-packages (from torch>=1.4.0->trl==0.11.0) (4.14.0)\n",
      "Requirement already satisfied: sympy in /home/pedro/anaconda3/envs/torch-env/lib/python3.10/site-packages (from torch>=1.4.0->trl==0.11.0) (1.14.0)\n",
      "Requirement already satisfied: networkx in /home/pedro/anaconda3/envs/torch-env/lib/python3.10/site-packages (from torch>=1.4.0->trl==0.11.0) (3.4.2)\n",
      "Requirement already satisfied: jinja2 in /home/pedro/anaconda3/envs/torch-env/lib/python3.10/site-packages (from torch>=1.4.0->trl==0.11.0) (3.1.6)\n",
      "Requirement already satisfied: fsspec in /home/pedro/anaconda3/envs/torch-env/lib/python3.10/site-packages (from torch>=1.4.0->trl==0.11.0) (2024.5.0)\n",
      "Requirement already satisfied: nvidia-cuda-nvrtc-cu12==12.1.105 in /home/pedro/anaconda3/envs/torch-env/lib/python3.10/site-packages (from torch>=1.4.0->trl==0.11.0) (12.1.105)\n",
      "Requirement already satisfied: nvidia-cuda-runtime-cu12==12.1.105 in /home/pedro/anaconda3/envs/torch-env/lib/python3.10/site-packages (from torch>=1.4.0->trl==0.11.0) (12.1.105)\n",
      "Requirement already satisfied: nvidia-cuda-cupti-cu12==12.1.105 in /home/pedro/anaconda3/envs/torch-env/lib/python3.10/site-packages (from torch>=1.4.0->trl==0.11.0) (12.1.105)\n",
      "Requirement already satisfied: nvidia-cudnn-cu12==8.9.2.26 in /home/pedro/anaconda3/envs/torch-env/lib/python3.10/site-packages (from torch>=1.4.0->trl==0.11.0) (8.9.2.26)\n",
      "Requirement already satisfied: nvidia-cublas-cu12==12.1.3.1 in /home/pedro/anaconda3/envs/torch-env/lib/python3.10/site-packages (from torch>=1.4.0->trl==0.11.0) (12.1.3.1)\n",
      "Requirement already satisfied: nvidia-cufft-cu12==11.0.2.54 in /home/pedro/anaconda3/envs/torch-env/lib/python3.10/site-packages (from torch>=1.4.0->trl==0.11.0) (11.0.2.54)\n",
      "Requirement already satisfied: nvidia-curand-cu12==10.3.2.106 in /home/pedro/anaconda3/envs/torch-env/lib/python3.10/site-packages (from torch>=1.4.0->trl==0.11.0) (10.3.2.106)\n",
      "Requirement already satisfied: nvidia-cusolver-cu12==11.4.5.107 in /home/pedro/anaconda3/envs/torch-env/lib/python3.10/site-packages (from torch>=1.4.0->trl==0.11.0) (11.4.5.107)\n",
      "Requirement already satisfied: nvidia-cusparse-cu12==12.1.0.106 in /home/pedro/anaconda3/envs/torch-env/lib/python3.10/site-packages (from torch>=1.4.0->trl==0.11.0) (12.1.0.106)\n",
      "Requirement already satisfied: nvidia-nccl-cu12==2.19.3 in /home/pedro/anaconda3/envs/torch-env/lib/python3.10/site-packages (from torch>=1.4.0->trl==0.11.0) (2.19.3)\n",
      "Requirement already satisfied: nvidia-nvtx-cu12==12.1.105 in /home/pedro/anaconda3/envs/torch-env/lib/python3.10/site-packages (from torch>=1.4.0->trl==0.11.0) (12.1.105)\n",
      "Requirement already satisfied: triton==2.2.0 in /home/pedro/anaconda3/envs/torch-env/lib/python3.10/site-packages (from torch>=1.4.0->trl==0.11.0) (2.2.0)\n",
      "Requirement already satisfied: nvidia-nvjitlink-cu12 in /home/pedro/anaconda3/envs/torch-env/lib/python3.10/site-packages (from nvidia-cusolver-cu12==11.4.5.107->torch>=1.4.0->trl==0.11.0) (12.6.85)\n",
      "Requirement already satisfied: huggingface-hub<1.0,>=0.23.2 in /home/pedro/anaconda3/envs/torch-env/lib/python3.10/site-packages (from transformers>=4.40.0->trl==0.11.0) (0.23.4)\n",
      "Requirement already satisfied: packaging>=20.0 in /home/pedro/anaconda3/envs/torch-env/lib/python3.10/site-packages (from transformers>=4.40.0->trl==0.11.0) (25.0)\n",
      "Requirement already satisfied: pyyaml>=5.1 in /home/pedro/anaconda3/envs/torch-env/lib/python3.10/site-packages (from transformers>=4.40.0->trl==0.11.0) (6.0.2)\n",
      "Requirement already satisfied: regex!=2019.12.17 in /home/pedro/anaconda3/envs/torch-env/lib/python3.10/site-packages (from transformers>=4.40.0->trl==0.11.0) (2024.11.6)\n",
      "Requirement already satisfied: requests in /home/pedro/anaconda3/envs/torch-env/lib/python3.10/site-packages (from transformers>=4.40.0->trl==0.11.0) (2.32.3)\n",
      "Requirement already satisfied: safetensors>=0.4.1 in /home/pedro/anaconda3/envs/torch-env/lib/python3.10/site-packages (from transformers>=4.40.0->trl==0.11.0) (0.5.3)\n",
      "Requirement already satisfied: tokenizers<0.20,>=0.19 in /home/pedro/.local/lib/python3.10/site-packages (from transformers>=4.40.0->trl==0.11.0) (0.19.1)\n",
      "Requirement already satisfied: tqdm>=4.27 in /home/pedro/.local/lib/python3.10/site-packages (from transformers>=4.40.0->trl==0.11.0) (4.66.4)\n",
      "Requirement already satisfied: docstring-parser>=0.15 in /home/pedro/.local/lib/python3.10/site-packages (from tyro>=0.5.11->trl==0.11.0) (0.16)\n",
      "Requirement already satisfied: rich>=11.1.0 in /home/pedro/anaconda3/envs/torch-env/lib/python3.10/site-packages (from tyro>=0.5.11->trl==0.11.0) (14.0.0)\n",
      "Requirement already satisfied: shtab>=1.5.6 in /home/pedro/.local/lib/python3.10/site-packages (from tyro>=0.5.11->trl==0.11.0) (1.7.2)\n",
      "Requirement already satisfied: typeguard>=4.0.0 in /home/pedro/.local/lib/python3.10/site-packages (from tyro>=0.5.11->trl==0.11.0) (4.4.3)\n",
      "Requirement already satisfied: markdown-it-py>=2.2.0 in /home/pedro/anaconda3/envs/torch-env/lib/python3.10/site-packages (from rich>=11.1.0->tyro>=0.5.11->trl==0.11.0) (3.0.0)\n",
      "Requirement already satisfied: pygments<3.0.0,>=2.13.0 in /home/pedro/anaconda3/envs/torch-env/lib/python3.10/site-packages (from rich>=11.1.0->tyro>=0.5.11->trl==0.11.0) (2.19.1)\n",
      "Requirement already satisfied: mdurl~=0.1 in /home/pedro/anaconda3/envs/torch-env/lib/python3.10/site-packages (from markdown-it-py>=2.2.0->rich>=11.1.0->tyro>=0.5.11->trl==0.11.0) (0.1.2)\n",
      "Requirement already satisfied: psutil in /home/pedro/anaconda3/envs/torch-env/lib/python3.10/site-packages (from accelerate->trl==0.11.0) (7.0.0)\n",
      "Requirement already satisfied: pyarrow>=15.0.0 in /home/pedro/anaconda3/envs/torch-env/lib/python3.10/site-packages (from datasets->trl==0.11.0) (20.0.0)\n",
      "Requirement already satisfied: dill<0.3.9,>=0.3.0 in /home/pedro/anaconda3/envs/torch-env/lib/python3.10/site-packages (from datasets->trl==0.11.0) (0.3.8)\n",
      "Requirement already satisfied: pandas in /home/pedro/.local/lib/python3.10/site-packages (from datasets->trl==0.11.0) (2.2.2)\n",
      "Requirement already satisfied: xxhash in /home/pedro/anaconda3/envs/torch-env/lib/python3.10/site-packages (from datasets->trl==0.11.0) (3.5.0)\n",
      "Requirement already satisfied: multiprocess<0.70.17 in /home/pedro/anaconda3/envs/torch-env/lib/python3.10/site-packages (from datasets->trl==0.11.0) (0.70.16)\n",
      "Requirement already satisfied: aiohttp in /home/pedro/anaconda3/envs/torch-env/lib/python3.10/site-packages (from datasets->trl==0.11.0) (3.12.13)\n",
      "Requirement already satisfied: aiohappyeyeballs>=2.5.0 in /home/pedro/anaconda3/envs/torch-env/lib/python3.10/site-packages (from aiohttp->datasets->trl==0.11.0) (2.6.1)\n",
      "Requirement already satisfied: aiosignal>=1.1.2 in /home/pedro/anaconda3/envs/torch-env/lib/python3.10/site-packages (from aiohttp->datasets->trl==0.11.0) (1.3.2)\n",
      "Requirement already satisfied: async-timeout<6.0,>=4.0 in /home/pedro/anaconda3/envs/torch-env/lib/python3.10/site-packages (from aiohttp->datasets->trl==0.11.0) (5.0.1)\n",
      "Requirement already satisfied: attrs>=17.3.0 in /home/pedro/anaconda3/envs/torch-env/lib/python3.10/site-packages (from aiohttp->datasets->trl==0.11.0) (25.3.0)\n",
      "Requirement already satisfied: frozenlist>=1.1.1 in /home/pedro/anaconda3/envs/torch-env/lib/python3.10/site-packages (from aiohttp->datasets->trl==0.11.0) (1.6.0)\n",
      "Requirement already satisfied: multidict<7.0,>=4.5 in /home/pedro/anaconda3/envs/torch-env/lib/python3.10/site-packages (from aiohttp->datasets->trl==0.11.0) (6.4.4)\n",
      "Requirement already satisfied: propcache>=0.2.0 in /home/pedro/anaconda3/envs/torch-env/lib/python3.10/site-packages (from aiohttp->datasets->trl==0.11.0) (0.3.1)\n",
      "Requirement already satisfied: yarl<2.0,>=1.17.0 in /home/pedro/anaconda3/envs/torch-env/lib/python3.10/site-packages (from aiohttp->datasets->trl==0.11.0) (1.20.0)\n",
      "Requirement already satisfied: idna>=2.0 in /home/pedro/anaconda3/envs/torch-env/lib/python3.10/site-packages (from yarl<2.0,>=1.17.0->aiohttp->datasets->trl==0.11.0) (3.10)\n",
      "Requirement already satisfied: charset-normalizer<4,>=2 in /home/pedro/anaconda3/envs/torch-env/lib/python3.10/site-packages (from requests->transformers>=4.40.0->trl==0.11.0) (3.4.2)\n",
      "Requirement already satisfied: urllib3<3,>=1.21.1 in /home/pedro/anaconda3/envs/torch-env/lib/python3.10/site-packages (from requests->transformers>=4.40.0->trl==0.11.0) (2.4.0)\n",
      "Requirement already satisfied: certifi>=2017.4.17 in /home/pedro/anaconda3/envs/torch-env/lib/python3.10/site-packages (from requests->transformers>=4.40.0->trl==0.11.0) (2025.4.26)\n",
      "Requirement already satisfied: MarkupSafe>=2.0 in /home/pedro/anaconda3/envs/torch-env/lib/python3.10/site-packages (from jinja2->torch>=1.4.0->trl==0.11.0) (3.0.2)\n",
      "Requirement already satisfied: python-dateutil>=2.8.2 in /home/pedro/anaconda3/envs/torch-env/lib/python3.10/site-packages (from pandas->datasets->trl==0.11.0) (2.9.0.post0)\n",
      "Requirement already satisfied: pytz>=2020.1 in /home/pedro/anaconda3/envs/torch-env/lib/python3.10/site-packages (from pandas->datasets->trl==0.11.0) (2025.2)\n",
      "Requirement already satisfied: tzdata>=2022.7 in /home/pedro/anaconda3/envs/torch-env/lib/python3.10/site-packages (from pandas->datasets->trl==0.11.0) (2025.2)\n",
      "Requirement already satisfied: six>=1.5 in /home/pedro/anaconda3/envs/torch-env/lib/python3.10/site-packages (from python-dateutil>=2.8.2->pandas->datasets->trl==0.11.0) (1.17.0)\n",
      "Requirement already satisfied: mpmath<1.4,>=1.1.0 in /home/pedro/anaconda3/envs/torch-env/lib/python3.10/site-packages (from sympy->torch>=1.4.0->trl==0.11.0) (1.3.0)\n"
     ]
    }
   ],
   "source": [
    "!pip install --user trl==0.11.0 "
   ]
  },
  {
   "cell_type": "markdown",
   "id": "e220e00c-a0de-484d-8b44-13df3b0131b9",
   "metadata": {},
   "source": [
    "### Importing required libraries\n",
    "\n",
    "_It's recommended to import all required libraries in one place (here):_\n"
   ]
  },
  {
   "cell_type": "code",
   "execution_count": 2,
   "id": "7e8499e9-7755-497d-8c11-22ca2364964f",
   "metadata": {},
   "outputs": [
    {
     "name": "stderr",
     "output_type": "stream",
     "text": [
      "/home/pedro/.local/lib/python3.10/site-packages/tqdm/auto.py:21: TqdmWarning: IProgress not found. Please update jupyter and ipywidgets. See https://ipywidgets.readthedocs.io/en/stable/user_install.html\n",
      "  from .autonotebook import tqdm as notebook_tqdm\n"
     ]
    }
   ],
   "source": [
    "##imports\n",
    "import multiprocessing\n",
    "import os\n",
    "import requests\n",
    "import tarfile\n",
    "import pandas as pd\n",
    "import matplotlib.pyplot as plt\n",
    "\n",
    "import torch\n",
    "from datasets import load_dataset\n",
    "\n",
    "from peft import LoraConfig\n",
    "from transformers import AutoModelForCausalLM, AutoTokenizer,TrainingArguments, GPT2Tokenizer, set_seed, GenerationConfig\n",
    "from trl import DPOConfig, DPOTrainer\n"
   ]
  },
  {
   "cell_type": "markdown",
   "id": "a8e0ce5b-07cb-4839-b6ca-d77910210b23",
   "metadata": {},
   "source": [
    "## Create and configure the model and tokenizer\n"
   ]
  },
  {
   "cell_type": "code",
   "execution_count": 3,
   "id": "21e349e7-4856-4ad5-8117-fbda95d31997",
   "metadata": {},
   "outputs": [],
   "source": [
    "\n",
    "# Load the GPT-2 model\n",
    "model = AutoModelForCausalLM.from_pretrained(\"gpt2\")\n",
    "\n",
    "# Load a reference model \n",
    "model_ref = AutoModelForCausalLM.from_pretrained(\"gpt2\")\n",
    "\n",
    "# Load the GPT-2 tokenizer\n",
    "tokenizer = GPT2Tokenizer.from_pretrained(\"gpt2\")\n",
    "\n",
    "# Set the pad token to the end-of-sequence token\n",
    "tokenizer.pad_token = tokenizer.eos_token\n",
    "# Set the padding side to \"right\" to fix the overflow issue with FP16 training\n",
    "tokenizer.padding_side = \"right\"\n",
    "\n",
    "# Disable the use of the cache during the model's forward pass\n",
    "model.config.use_cache = False"
   ]
  },
  {
   "cell_type": "markdown",
   "id": "09f12984-2bde-422e-b60c-d9fcadd4297c",
   "metadata": {},
   "source": [
    "Here, you can check the model architecture.\n"
   ]
  },
  {
   "cell_type": "code",
   "execution_count": 4,
   "id": "d2d054e5-2d66-431a-9db7-3ea8623fd4a2",
   "metadata": {},
   "outputs": [
    {
     "data": {
      "text/plain": [
       "GPT2LMHeadModel(\n",
       "  (transformer): GPT2Model(\n",
       "    (wte): Embedding(50257, 768)\n",
       "    (wpe): Embedding(1024, 768)\n",
       "    (drop): Dropout(p=0.1, inplace=False)\n",
       "    (h): ModuleList(\n",
       "      (0-11): 12 x GPT2Block(\n",
       "        (ln_1): LayerNorm((768,), eps=1e-05, elementwise_affine=True)\n",
       "        (attn): GPT2SdpaAttention(\n",
       "          (c_attn): Conv1D()\n",
       "          (c_proj): Conv1D()\n",
       "          (attn_dropout): Dropout(p=0.1, inplace=False)\n",
       "          (resid_dropout): Dropout(p=0.1, inplace=False)\n",
       "        )\n",
       "        (ln_2): LayerNorm((768,), eps=1e-05, elementwise_affine=True)\n",
       "        (mlp): GPT2MLP(\n",
       "          (c_fc): Conv1D()\n",
       "          (c_proj): Conv1D()\n",
       "          (act): NewGELUActivation()\n",
       "          (dropout): Dropout(p=0.1, inplace=False)\n",
       "        )\n",
       "      )\n",
       "    )\n",
       "    (ln_f): LayerNorm((768,), eps=1e-05, elementwise_affine=True)\n",
       "  )\n",
       "  (lm_head): Linear(in_features=768, out_features=50257, bias=False)\n",
       ")"
      ]
     },
     "execution_count": 4,
     "metadata": {},
     "output_type": "execute_result"
    }
   ],
   "source": [
    "model"
   ]
  },
  {
   "cell_type": "markdown",
   "id": "f6e743dd-7d5b-4e65-8746-bb448d3f17d0",
   "metadata": {},
   "source": [
    "### Quantized model configuration (Optional)\n",
    "If you want memory-efficient training and have access to a GPU-powered environment, you can download the complete lab, uncomment the following two code blocks to create a quantized model and proceed with training the model on GPU. This is because you will need GPUs for the bits and bytes package.\n"
   ]
  },
  {
   "cell_type": "code",
   "execution_count": 5,
   "id": "01b01eb4-e7b1-4ea1-89ad-d6fed409cc66",
   "metadata": {},
   "outputs": [],
   "source": [
    "#!pip install -U bitsandbytes # this package is required for quantization"
   ]
  },
  {
   "cell_type": "markdown",
   "id": "bc8a1066-09b8-4201-b76f-e53729347d9a",
   "metadata": {},
   "source": [
    "**_Note:_**  _You can run the installed package by restarting a Kernel._\n"
   ]
  },
  {
   "cell_type": "code",
   "execution_count": 6,
   "id": "2a7547e9-9b38-49ff-93fc-3656152fb8c5",
   "metadata": {},
   "outputs": [
    {
     "data": {
      "text/plain": [
       "'## Quantized model --only available on GPU\\nfrom transformers import BitsAndBytesConfig\\n\\n# Configure the quantization parameters\\nquantization_config = BitsAndBytesConfig(\\n    # Load the model in 4-bit quantized format\\n    load_in_4bit=True,\\n    # Enable double quantization for better accuracy\\n    bnb_4bit_use_double_quant=True,\\n    # Use non-uniform 4-bit quantization (nf4)\\n    bnb_4bit_quant_type=\"nf4\",\\n    # Use bfloat16 as the computation data type during quantization\\n    bnb_4bit_compute_dtype=torch.bfloat16\\n)\\n\\n# Load GPT-2 model with the specified quantization configuration\\nmodel = AutoModelForCausalLM.from_pretrained(\"gpt2\", quantization_config=quantization_config)\\n\\n# Load a reference model with the same quantization configuration\\nmodel_ref = AutoModelForCausalLM.from_pretrained(\"gpt2\", quantization_config=quantization_config)\\n\\n# Load GPT-2 tokenizer\\ntokenizer = GPT2Tokenizer.from_pretrained(\"gpt2\")\\n\\n# Set the pad token to the end-of-sequence token\\ntokenizer.pad_token = tokenizer.eos_token\\n# Set the padding side to \"right\" to fix the overflow issue with FP16 training\\ntokenizer.padding_side = \"right\"\\n\\n# Disable the use of the cache during the model\\'s forward pass\\nmodel.config.use_cache = False'"
      ]
     },
     "execution_count": 6,
     "metadata": {},
     "output_type": "execute_result"
    }
   ],
   "source": [
    "'''## Quantized model --only available on GPU\n",
    "from transformers import BitsAndBytesConfig\n",
    "\n",
    "# Configure the quantization parameters\n",
    "quantization_config = BitsAndBytesConfig(\n",
    "    # Load the model in 4-bit quantized format\n",
    "    load_in_4bit=True,\n",
    "    # Enable double quantization for better accuracy\n",
    "    bnb_4bit_use_double_quant=True,\n",
    "    # Use non-uniform 4-bit quantization (nf4)\n",
    "    bnb_4bit_quant_type=\"nf4\",\n",
    "    # Use bfloat16 as the computation data type during quantization\n",
    "    bnb_4bit_compute_dtype=torch.bfloat16\n",
    ")\n",
    "\n",
    "# Load GPT-2 model with the specified quantization configuration\n",
    "model = AutoModelForCausalLM.from_pretrained(\"gpt2\", quantization_config=quantization_config)\n",
    "\n",
    "# Load a reference model with the same quantization configuration\n",
    "model_ref = AutoModelForCausalLM.from_pretrained(\"gpt2\", quantization_config=quantization_config)\n",
    "\n",
    "# Load GPT-2 tokenizer\n",
    "tokenizer = GPT2Tokenizer.from_pretrained(\"gpt2\")\n",
    "\n",
    "# Set the pad token to the end-of-sequence token\n",
    "tokenizer.pad_token = tokenizer.eos_token\n",
    "# Set the padding side to \"right\" to fix the overflow issue with FP16 training\n",
    "tokenizer.padding_side = \"right\"\n",
    "\n",
    "# Disable the use of the cache during the model's forward pass\n",
    "model.config.use_cache = False'''"
   ]
  },
  {
   "cell_type": "markdown",
   "id": "63173404-5327-4d92-a732-587b36912451",
   "metadata": {},
   "source": [
    "## Preprocess data set\n",
    "\n",
    "The \"ultrafeedback_binarized\" data set on Hugging Face is a collection of prompts and responses.  \n"
   ]
  },
  {
   "cell_type": "code",
   "execution_count": 7,
   "id": "a110c5da-a9d7-413f-9c10-0f5a8e1d9144",
   "metadata": {},
   "outputs": [
    {
     "name": "stderr",
     "output_type": "stream",
     "text": [
      "Generating train_prefs split: 100%|██████████| 61135/61135 [00:00<00:00, 107736.94 examples/s]\n",
      "Generating train_sft split: 100%|██████████| 61135/61135 [00:00<00:00, 114704.07 examples/s]\n",
      "Generating test_prefs split: 100%|██████████| 2000/2000 [00:00<00:00, 39447.96 examples/s]\n",
      "Generating test_sft split: 100%|██████████| 1000/1000 [00:00<00:00, 77160.75 examples/s]\n",
      "Generating train_gen split: 100%|██████████| 61135/61135 [00:00<00:00, 140022.30 examples/s]\n",
      "Generating test_gen split: 100%|██████████| 1000/1000 [00:00<00:00, 85961.18 examples/s]\n"
     ]
    }
   ],
   "source": [
    "# Load the dataset from the specified location\n",
    "ds = load_dataset(\"BarraHome/ultrafeedback_binarized\")"
   ]
  },
  {
   "cell_type": "markdown",
   "id": "c8165182-0b50-415b-8aaa-748f0f5402ba",
   "metadata": {},
   "source": [
    "This data set includes six splits. \n"
   ]
  },
  {
   "cell_type": "code",
   "execution_count": 8,
   "id": "dfeec910-4c03-42ba-981d-83122f30986a",
   "metadata": {},
   "outputs": [
    {
     "data": {
      "text/plain": [
       "dict_keys(['train_prefs', 'train_sft', 'test_prefs', 'test_sft', 'train_gen', 'test_gen'])"
      ]
     },
     "execution_count": 8,
     "metadata": {},
     "output_type": "execute_result"
    }
   ],
   "source": [
    "ds.keys()"
   ]
  },
  {
   "cell_type": "markdown",
   "id": "f99b4ceb-db66-4c03-85d6-d4848d8659b8",
   "metadata": {},
   "source": [
    "Each record has different features among which you need to select from the three features, that is \"chosen,\" \"rejected,\" and \"prompt.\" This means that for each prompt, a prefered response and a rejected response are provided.\n"
   ]
  },
  {
   "cell_type": "code",
   "execution_count": 9,
   "id": "2ad49e1c-fd6a-4e2f-9e1e-4bdc2e80f130",
   "metadata": {},
   "outputs": [
    {
     "data": {
      "text/plain": [
       "dict_keys(['prompt', 'prompt_id', 'chosen', 'rejected', 'messages', 'score_chosen', 'score_rejected'])"
      ]
     },
     "execution_count": 9,
     "metadata": {},
     "output_type": "execute_result"
    }
   ],
   "source": [
    "ds[\"train_prefs\"][0].keys()"
   ]
  },
  {
   "cell_type": "markdown",
   "id": "5b0080f9-4e17-4b57-8487-3233c147fcfe",
   "metadata": {},
   "source": [
    "You can check the sample record of data, where you can see three features along with other features that is the prompt, the rejected, and chosen responses.\n"
   ]
  },
  {
   "cell_type": "code",
   "execution_count": 10,
   "id": "4ef6b2b1-a805-4d3b-b2de-c50b6b2d7b83",
   "metadata": {},
   "outputs": [
    {
     "data": {
      "text/plain": [
       "{'prompt': 'how can i develop a habit of drawing daily',\n",
       " 'prompt_id': '086b3e24f29b8956a01059f79c56db35d118a06fb6b844b095737d042795cd43',\n",
       " 'chosen': [{'content': 'how can i develop a habit of drawing daily',\n",
       "   'role': 'user'},\n",
       "  {'content': \"Developing a daily habit of drawing can be challenging but with consistent practice and a few tips, it can become an enjoyable and rewarding part of your daily routine. Here are some strategies to help you develop the habit of drawing daily:\\n\\n1. Set a specific time: Allocate a specific time of the day to draw. It could be in the morning, afternoon, or evening. Make drawing a part of your daily routine.\\n2. Set a specific duration: Determine the amount of time you want to spend on drawing each day. It can be as little as 10 minutes or as long as an hour. Be consistent with the duration to help build the habit.\\n3. Start small and simple: Don't try to create a masterpiece every day, start with simple and easy-to-do sketches. Focus on improving your skills gradually.\\n4. Use a variety of tools and mediums: Experiment with different tools like pencils, pens, markers, and different mediums like paper, canvas, or digital apps to keep your drawing practice interesting and engaging.\\n5. Take breaks and rest: Taking breaks and resting after some time of drawing can help you avoid burnout and stay motivated.\\n6. Challenge yourself: Set challenges like drawing objects from memory or a specific subject to improve your skills and keep your drawing practice interesting.\\n7. Track your progress: Keep a record of your daily drawing practice and track your progress. This can be a source of motivation and help you see how far you've come.\\n\\nRemember, developing a habit takes time and patience. Stay consistent with your drawing practice, be flexible and open to trying new things, and with time, you'll develop a habit of daily drawing that brings you joy and satisfaction.\",\n",
       "   'role': 'assistant'}],\n",
       " 'rejected': [{'content': 'how can i develop a habit of drawing daily',\n",
       "   'role': 'user'},\n",
       "  {'content': \"One way to develop a habit of drawing daily is to allocate a specific time interval for drawing each day, whether it's early in the morning or before going to bed at night. You can also find inspiration or motivation to draw by joining drawing communities, following artists on social media, or going out into nature and sketching what you see. Additionally, practicing drawing every day can help you improve your skills over time.\",\n",
       "   'role': 'assistant'}],\n",
       " 'messages': [{'content': 'how can i develop a habit of drawing daily',\n",
       "   'role': 'user'},\n",
       "  {'content': \"Developing a daily habit of drawing can be challenging but with consistent practice and a few tips, it can become an enjoyable and rewarding part of your daily routine. Here are some strategies to help you develop the habit of drawing daily:\\n\\n1. Set a specific time: Allocate a specific time of the day to draw. It could be in the morning, afternoon, or evening. Make drawing a part of your daily routine.\\n2. Set a specific duration: Determine the amount of time you want to spend on drawing each day. It can be as little as 10 minutes or as long as an hour. Be consistent with the duration to help build the habit.\\n3. Start small and simple: Don't try to create a masterpiece every day, start with simple and easy-to-do sketches. Focus on improving your skills gradually.\\n4. Use a variety of tools and mediums: Experiment with different tools like pencils, pens, markers, and different mediums like paper, canvas, or digital apps to keep your drawing practice interesting and engaging.\\n5. Take breaks and rest: Taking breaks and resting after some time of drawing can help you avoid burnout and stay motivated.\\n6. Challenge yourself: Set challenges like drawing objects from memory or a specific subject to improve your skills and keep your drawing practice interesting.\\n7. Track your progress: Keep a record of your daily drawing practice and track your progress. This can be a source of motivation and help you see how far you've come.\\n\\nRemember, developing a habit takes time and patience. Stay consistent with your drawing practice, be flexible and open to trying new things, and with time, you'll develop a habit of daily drawing that brings you joy and satisfaction.\",\n",
       "   'role': 'assistant'}],\n",
       " 'score_chosen': 8.5,\n",
       " 'score_rejected': 7.5}"
      ]
     },
     "execution_count": 10,
     "metadata": {},
     "output_type": "execute_result"
    }
   ],
   "source": [
    "ds[\"train_prefs\"][0]"
   ]
  },
  {
   "cell_type": "markdown",
   "id": "f93bea77-9db4-407c-b57c-5b8c8990e0db",
   "metadata": {},
   "source": [
    "Now, put the data set in the format that the DPO trainer accepts.\n",
    "\n",
    "| Chosen | Rejected | Prompt |\n",
    "| --- | --- | --- |\n",
    " | Developing a daily habit of drawing can be challenging <br>but with consistent practice, and a few tips. | One way to develop a habit of drawing daily is <br>to allocate a specific time interval for drawing. | How can I develop a habit of drawing daily?|\n"
   ]
  },
  {
   "cell_type": "code",
   "execution_count": null,
   "id": "f5c90036-db56-432a-b9d1-fbbccf20aa4a",
   "metadata": {},
   "outputs": [
    {
     "name": "stderr",
     "output_type": "stream",
     "text": [
      "Map (num_proc=16): 100%|██████████| 50/50 [00:00<00:00, 237.78 examples/s]\n",
      "Map (num_proc=16): 100%|██████████| 50/50 [00:00<00:00, 274.92 examples/s]\n",
      "Map (num_proc=16): 100%|██████████| 50/50 [00:00<00:00, 173.09 examples/s]\n",
      "Map (num_proc=16): 100%|██████████| 50/50 [00:00<00:00, 172.45 examples/s]\n",
      "Map (num_proc=16): 100%|██████████| 50/50 [00:00<00:00, 156.16 examples/s]\n",
      "Map (num_proc=16): 100%|██████████| 50/50 [00:00<00:00, 128.44 examples/s]\n"
     ]
    }
   ],
   "source": [
    "# You can reduce the volume of data (due to resource limitations) by selecting the first 5% examples from each split of the dataset\n",
    "for key in ds:\n",
    "    # cnt = round(ds[key].__len__()*0.05)\n",
    "    cnt = 50\n",
    "    ds[key] = ds[key].select(range(cnt))\n",
    "\n",
    "\n",
    "# Define a function to process the data\n",
    "def process(row):\n",
    "    # delete unwanted columns\n",
    "    del row[\"prompt_id\"]\n",
    "    del row[\"messages\"]\n",
    "    del row[\"score_chosen\"]\n",
    "    del row[\"score_rejected\"]\n",
    "    # retrieve the actual response text \n",
    "    row[\"chosen\"] = row[\"chosen\"][-1][\"content\"]\n",
    "    row[\"rejected\"] = row[\"rejected\"][-1][\"content\"]\n",
    "\n",
    "    return row\n",
    "\n",
    "\n",
    "# Apply the data processing function to the dataset\n",
    "ds = ds.map(\n",
    "    process,\n",
    "    num_proc=multiprocessing.cpu_count(),\n",
    "    load_from_cache_file=False,\n",
    ")\n",
    "\n",
    "# Split the dataset into training and evaluation sets\n",
    "train_dataset = ds[\"train_prefs\"]\n",
    "eval_dataset = ds[\"test_prefs\"]\n"
   ]
  },
  {
   "cell_type": "markdown",
   "id": "b7f14621-933b-4605-93c1-9d94266f114d",
   "metadata": {},
   "source": [
    "Let's check the data record.\n"
   ]
  },
  {
   "cell_type": "code",
   "execution_count": 12,
   "id": "4172ad81-92ab-4699-b6d4-bd601ee7ede8",
   "metadata": {},
   "outputs": [
    {
     "data": {
      "text/plain": [
       "{'prompt': 'how can i develop a habit of drawing daily',\n",
       " 'chosen': \"Developing a daily habit of drawing can be challenging but with consistent practice and a few tips, it can become an enjoyable and rewarding part of your daily routine. Here are some strategies to help you develop the habit of drawing daily:\\n\\n1. Set a specific time: Allocate a specific time of the day to draw. It could be in the morning, afternoon, or evening. Make drawing a part of your daily routine.\\n2. Set a specific duration: Determine the amount of time you want to spend on drawing each day. It can be as little as 10 minutes or as long as an hour. Be consistent with the duration to help build the habit.\\n3. Start small and simple: Don't try to create a masterpiece every day, start with simple and easy-to-do sketches. Focus on improving your skills gradually.\\n4. Use a variety of tools and mediums: Experiment with different tools like pencils, pens, markers, and different mediums like paper, canvas, or digital apps to keep your drawing practice interesting and engaging.\\n5. Take breaks and rest: Taking breaks and resting after some time of drawing can help you avoid burnout and stay motivated.\\n6. Challenge yourself: Set challenges like drawing objects from memory or a specific subject to improve your skills and keep your drawing practice interesting.\\n7. Track your progress: Keep a record of your daily drawing practice and track your progress. This can be a source of motivation and help you see how far you've come.\\n\\nRemember, developing a habit takes time and patience. Stay consistent with your drawing practice, be flexible and open to trying new things, and with time, you'll develop a habit of daily drawing that brings you joy and satisfaction.\",\n",
       " 'rejected': \"One way to develop a habit of drawing daily is to allocate a specific time interval for drawing each day, whether it's early in the morning or before going to bed at night. You can also find inspiration or motivation to draw by joining drawing communities, following artists on social media, or going out into nature and sketching what you see. Additionally, practicing drawing every day can help you improve your skills over time.\"}"
      ]
     },
     "execution_count": 12,
     "metadata": {},
     "output_type": "execute_result"
    }
   ],
   "source": [
    "train_dataset[0]"
   ]
  },
  {
   "cell_type": "markdown",
   "id": "410df653-d933-46e9-8e0e-499f5e6b82bd",
   "metadata": {},
   "source": [
    "Next, define LoRAConfig for efficient fine-tuning.\n"
   ]
  },
  {
   "cell_type": "code",
   "execution_count": 13,
   "id": "9a92494b-1e8c-4d8e-b357-ce1d6fd0213e",
   "metadata": {},
   "outputs": [],
   "source": [
    "# PEFT (Parameter-Efficient Finetuning) configuration\n",
    "peft_config = LoraConfig(\n",
    "        # The rank of the low-rank adaptation weights\n",
    "        r=4,\n",
    "        # The target modules to apply the low-rank adaptation to\n",
    "        target_modules=['c_proj','c_attn'],\n",
    "        # The task type for the low-rank adaptation\n",
    "        task_type=\"CAUSAL_LM\",\n",
    "        # The scaling factor for the low-rank adaptation weights\n",
    "        lora_alpha=8,\n",
    "        # The dropout probability for the low-rank adaptation weights\n",
    "        lora_dropout=0.1,\n",
    "        # The bias mode for the low-rank adaptation\n",
    "        bias=\"none\",\n",
    ")"
   ]
  },
  {
   "cell_type": "markdown",
   "id": "5968cd9e-0160-4691-8586-3320a56e1f41",
   "metadata": {},
   "source": [
    "### DPO configuration\n",
    "\n",
    "First, define training arguments.\n"
   ]
  },
  {
   "cell_type": "code",
   "execution_count": 14,
   "id": "8c054ee8-4656-42f2-bd5c-56da25871eca",
   "metadata": {},
   "outputs": [
    {
     "name": "stderr",
     "output_type": "stream",
     "text": [
      "/home/pedro/.local/lib/python3.10/site-packages/transformers/training_args.py:1525: FutureWarning: `evaluation_strategy` is deprecated and will be removed in version 4.46 of 🤗 Transformers. Use `eval_strategy` instead\n",
      "  warnings.warn(\n"
     ]
    }
   ],
   "source": [
    "# DPO configuration\n",
    "from peft import get_peft_model\n",
    "training_args = DPOConfig(\n",
    "    # The beta parameter for the DPO loss function\n",
    "    #beta is the temperature parameter for the DPO loss, typically something in the range of 0.1 to 0.5 . \n",
    "    beta=0.1,\n",
    "    # The output directory for the training\n",
    "    output_dir=\"dpo\",\n",
    "    # The number of training epochs\n",
    "    num_train_epochs=5,\n",
    "    # The batch size per device during training\n",
    "    per_device_train_batch_size=1,\n",
    "    # The batch size per device during evaluation\n",
    "    per_device_eval_batch_size=1,\n",
    "    # Whether to remove unused columns from the dataset\n",
    "    remove_unused_columns=False,\n",
    "    # The number of steps between logging training progress\n",
    "    logging_steps=10,\n",
    "    # The number of gradient accumulation steps\n",
    "    gradient_accumulation_steps=1,\n",
    "    # The learning rate for the optimization\n",
    "    learning_rate=1e-4,\n",
    "    # The evaluation strategy (e.g., after each step or epoch)\n",
    "    evaluation_strategy=\"epoch\",\n",
    "    # The number of warmup steps for the learning rate scheduler\n",
    "    warmup_steps=2,\n",
    "    # Whether to use 16-bit (float16) precision\n",
    "    fp16=False,\n",
    "    # The number of steps between saving checkpoints\n",
    "    save_steps=500,\n",
    "    # The maximum number of checkpoints to keep\n",
    "    #save_total_limit=2,\n",
    "    # The reporting backend to use (set to 'none' to disable, you can also report to wandb or tensorboard)\n",
    "    report_to='none'\n",
    ")"
   ]
  },
  {
   "cell_type": "markdown",
   "id": "77edf717-f35a-46cf-b9ae-69cd1fa1ef8c",
   "metadata": {},
   "source": [
    "### DPO training\n",
    "\n",
    "Next step is creating the actual trainer using DPOTrainer class.\n"
   ]
  },
  {
   "cell_type": "code",
   "execution_count": 15,
   "id": "334f52f1-00e5-4c16-bcb5-bc0a91c6f3dd",
   "metadata": {},
   "outputs": [
    {
     "name": "stderr",
     "output_type": "stream",
     "text": [
      "/home/pedro/anaconda3/envs/torch-env/lib/python3.10/site-packages/huggingface_hub/utils/_deprecation.py:100: FutureWarning: Deprecated argument(s) used in '__init__': max_length. Will not be supported from version '1.0.0'.\n",
      "\n",
      "Deprecated positional argument(s) used in DPOTrainer, please use the DPOConfig to set these arguments instead.\n",
      "  warnings.warn(message, FutureWarning)\n",
      "/home/pedro/anaconda3/envs/torch-env/lib/python3.10/site-packages/peft/tuners/lora/layer.py:1119: UserWarning: fan_in_fan_out is set to False but the target module is `Conv1D`. Setting fan_in_fan_out to True.\n",
      "  warnings.warn(\n",
      "/home/pedro/.local/lib/python3.10/site-packages/trl/trainer/dpo_trainer.py:675: UserWarning: You passed `max_length` to the DPOTrainer, the value you passed will override the one in the `DPOConfig`.\n",
      "  warnings.warn(\n",
      "/home/pedro/.local/lib/python3.10/site-packages/trl/trainer/dpo_trainer.py:693: UserWarning: `max_prompt_length` is not set in the DPOConfig's init it will default to `128` by default, but you should do it yourself in the future.\n",
      "  warnings.warn(\n",
      "Tokenizing train dataset:   0%|          | 0/50 [00:00<?, ? examples/s]Token indices sequence length is longer than the specified maximum sequence length for this model (1154 > 1024). Running this sequence through the model will result in indexing errors\n",
      "Tokenizing train dataset: 100%|██████████| 50/50 [00:00<00:00, 77.64 examples/s]\n",
      "Tokenizing eval dataset: 100%|██████████| 50/50 [00:00<00:00, 90.14 examples/s]\n"
     ]
    }
   ],
   "source": [
    "tokenizer.pad_token = tokenizer.eos_token\n",
    "\n",
    "# Create a DPO trainer\n",
    "# This trainer will handle the fine-tuning of the model using the DPO technique\n",
    "trainer = DPOTrainer(\n",
    "        # The model to be fine-tuned\n",
    "        model=model,\n",
    "        # The reference model (not used in this case because LoRA has been used)\n",
    "        ref_model=None,\n",
    "        # The DPO training configuration\n",
    "        args=training_args,\n",
    "        # The beta parameter for the DPO loss function\n",
    "       \n",
    "        # The training dataset\n",
    "        train_dataset=train_dataset,\n",
    "        # The evaluation dataset\n",
    "        eval_dataset=eval_dataset,\n",
    "        # The tokenizer for the model\n",
    "        tokenizer=tokenizer,\n",
    "        # The PEFT (Parallel Efficient Finetuning) configuration\n",
    "        peft_config=peft_config,\n",
    "        # The maximum prompt length\n",
    "        #max_prompt_length=512,\n",
    "        # The maximum sequence length\n",
    "        max_length=512,\n",
    "    )\n"
   ]
  },
  {
   "cell_type": "markdown",
   "id": "f6685ddb-2a23-4e2d-9b84-acc0b45e2c0f",
   "metadata": {},
   "source": [
    "Please note that when using LoRA for the base model, it's efficient to leave the model_ref param null, in which case the DPOTrainer will unload the adapter for reference inference.\n",
    "\n",
    "\n",
    "Now, you're all set for training the model.\n"
   ]
  },
  {
   "cell_type": "markdown",
   "id": "4b2658b6-ed1e-41d7-952b-87f23569c406",
   "metadata": {},
   "source": [
    "#### Training model\n"
   ]
  },
  {
   "cell_type": "markdown",
   "id": "30af9935-f1fd-4c37-9024-a8217e51c25d",
   "metadata": {},
   "source": [
    "**Keep in mind that training the model on a CPU can be time-consuming and may cause the kernel to crash due to memory issues. If this happens, you can bypass training by loading the pre-trained model provided in the next section and proceed from there.**\n"
   ]
  },
  {
   "cell_type": "code",
   "execution_count": 16,
   "id": "9088c26f-dee1-4e46-9aac-304d11409c63",
   "metadata": {},
   "outputs": [
    {
     "name": "stderr",
     "output_type": "stream",
     "text": [
      "  0%|          | 0/250 [00:00<?, ?it/s]Could not estimate the number of tokens of the input, floating-point operations will not be computed\n",
      "  4%|▍         | 10/250 [00:02<00:52,  4.61it/s]"
     ]
    },
    {
     "name": "stdout",
     "output_type": "stream",
     "text": [
      "{'loss': 0.6852, 'grad_norm': 6.537858963012695, 'learning_rate': 9.677419354838711e-05, 'rewards/chosen': -0.005213546566665173, 'rewards/rejected': -0.021396370604634285, 'rewards/accuracies': 0.6000000238418579, 'rewards/margins': 0.016182824969291687, 'logps/rejected': -525.095458984375, 'logps/chosen': -571.6312866210938, 'logits/rejected': -101.83506774902344, 'logits/chosen': -105.98284912109375, 'epoch': 0.2}\n"
     ]
    },
    {
     "name": "stderr",
     "output_type": "stream",
     "text": [
      "  8%|▊         | 20/250 [00:04<00:43,  5.32it/s]"
     ]
    },
    {
     "name": "stdout",
     "output_type": "stream",
     "text": [
      "{'loss': 0.8071, 'grad_norm': 3.630676507949829, 'learning_rate': 9.274193548387096e-05, 'rewards/chosen': -0.1652015745639801, 'rewards/rejected': 0.0037093728315085173, 'rewards/accuracies': 0.4000000059604645, 'rewards/margins': -0.168910950422287, 'logps/rejected': -403.4742736816406, 'logps/chosen': -531.5833129882812, 'logits/rejected': -103.61614990234375, 'logits/chosen': -106.25346374511719, 'epoch': 0.4}\n"
     ]
    },
    {
     "name": "stderr",
     "output_type": "stream",
     "text": [
      " 12%|█▏        | 30/250 [00:05<00:33,  6.59it/s]"
     ]
    },
    {
     "name": "stdout",
     "output_type": "stream",
     "text": [
      "{'loss': 0.6958, 'grad_norm': 4.985483169555664, 'learning_rate': 8.870967741935484e-05, 'rewards/chosen': -0.005856209900230169, 'rewards/rejected': -0.0010891727870330215, 'rewards/accuracies': 0.6000000238418579, 'rewards/margins': -0.004767036065459251, 'logps/rejected': -366.03912353515625, 'logps/chosen': -466.8167419433594, 'logits/rejected': -107.03633117675781, 'logits/chosen': -107.24937438964844, 'epoch': 0.6}\n"
     ]
    },
    {
     "name": "stderr",
     "output_type": "stream",
     "text": [
      " 16%|█▌        | 40/250 [00:08<00:52,  4.00it/s]"
     ]
    },
    {
     "name": "stdout",
     "output_type": "stream",
     "text": [
      "{'loss': 0.7105, 'grad_norm': 9.124223709106445, 'learning_rate': 8.467741935483871e-05, 'rewards/chosen': 0.027065813541412354, 'rewards/rejected': 0.06017006188631058, 'rewards/accuracies': 0.4000000059604645, 'rewards/margins': -0.033104248344898224, 'logps/rejected': -559.1781005859375, 'logps/chosen': -698.5692749023438, 'logits/rejected': -105.2916488647461, 'logits/chosen': -101.19117736816406, 'epoch': 0.8}\n"
     ]
    },
    {
     "name": "stderr",
     "output_type": "stream",
     "text": [
      " 20%|██        | 50/250 [00:10<00:41,  4.77it/s]"
     ]
    },
    {
     "name": "stdout",
     "output_type": "stream",
     "text": [
      "{'loss': 0.6908, 'grad_norm': 10.373687744140625, 'learning_rate': 8.064516129032258e-05, 'rewards/chosen': 0.11638401448726654, 'rewards/rejected': 0.10264082998037338, 'rewards/accuracies': 0.4000000059604645, 'rewards/margins': 0.013743174262344837, 'logps/rejected': -585.4526977539062, 'logps/chosen': -535.3652954101562, 'logits/rejected': -107.5225830078125, 'logits/chosen': -98.71161651611328, 'epoch': 1.0}\n"
     ]
    },
    {
     "name": "stderr",
     "output_type": "stream",
     "text": [
      "                                                \n",
      " 20%|██        | 51/250 [00:15<05:48,  1.75s/it]"
     ]
    },
    {
     "name": "stdout",
     "output_type": "stream",
     "text": [
      "{'eval_loss': 0.6748689413070679, 'eval_runtime': 5.3368, 'eval_samples_per_second': 9.369, 'eval_steps_per_second': 9.369, 'eval_rewards/chosen': 0.09966232627630234, 'eval_rewards/rejected': 0.05708792060613632, 'eval_rewards/accuracies': 0.5600000023841858, 'eval_rewards/margins': 0.04257439449429512, 'eval_logps/rejected': -528.0234985351562, 'eval_logps/chosen': -536.4116821289062, 'eval_logits/rejected': -103.77881622314453, 'eval_logits/chosen': -103.7886734008789, 'epoch': 1.0}\n"
     ]
    },
    {
     "name": "stderr",
     "output_type": "stream",
     "text": [
      " 24%|██▍       | 60/250 [00:17<00:59,  3.22it/s]"
     ]
    },
    {
     "name": "stdout",
     "output_type": "stream",
     "text": [
      "{'loss': 0.5443, 'grad_norm': 4.089430332183838, 'learning_rate': 7.661290322580645e-05, 'rewards/chosen': 0.3283078074455261, 'rewards/rejected': -0.013294828124344349, 'rewards/accuracies': 1.0, 'rewards/margins': 0.341602623462677, 'logps/rejected': -555.0398559570312, 'logps/chosen': -667.7281494140625, 'logits/rejected': -101.74859619140625, 'logits/chosen': -103.81498718261719, 'epoch': 1.2}\n"
     ]
    },
    {
     "name": "stderr",
     "output_type": "stream",
     "text": [
      " 28%|██▊       | 70/250 [00:19<00:42,  4.28it/s]"
     ]
    },
    {
     "name": "stdout",
     "output_type": "stream",
     "text": [
      "{'loss': 0.5213, 'grad_norm': 4.674707889556885, 'learning_rate': 7.258064516129033e-05, 'rewards/chosen': 0.4824356436729431, 'rewards/rejected': 0.059080105274915695, 'rewards/accuracies': 0.8999999761581421, 'rewards/margins': 0.4233555793762207, 'logps/rejected': -489.70550537109375, 'logps/chosen': -678.0421142578125, 'logits/rejected': -100.98856353759766, 'logits/chosen': -97.45274353027344, 'epoch': 1.4}\n"
     ]
    },
    {
     "name": "stderr",
     "output_type": "stream",
     "text": [
      " 32%|███▏      | 80/250 [00:21<00:29,  5.78it/s]"
     ]
    },
    {
     "name": "stdout",
     "output_type": "stream",
     "text": [
      "{'loss': 0.55, 'grad_norm': 2.2722063064575195, 'learning_rate': 6.854838709677419e-05, 'rewards/chosen': 0.4509028494358063, 'rewards/rejected': -0.026266321539878845, 'rewards/accuracies': 0.8999999761581421, 'rewards/margins': 0.4771691858768463, 'logps/rejected': -714.9119873046875, 'logps/chosen': -620.5470581054688, 'logits/rejected': -108.3516845703125, 'logits/chosen': -103.54331970214844, 'epoch': 1.6}\n"
     ]
    },
    {
     "name": "stderr",
     "output_type": "stream",
     "text": [
      " 36%|███▋      | 91/250 [00:23<00:23,  6.77it/s]"
     ]
    },
    {
     "name": "stdout",
     "output_type": "stream",
     "text": [
      "{'loss': 0.6063, 'grad_norm': 10.148119926452637, 'learning_rate': 6.451612903225807e-05, 'rewards/chosen': 0.1781594455242157, 'rewards/rejected': -0.01412761677056551, 'rewards/accuracies': 0.8999999761581421, 'rewards/margins': 0.19228705763816833, 'logps/rejected': -224.1495361328125, 'logps/chosen': -348.1676330566406, 'logits/rejected': -107.41569519042969, 'logits/chosen': -106.99658203125, 'epoch': 1.8}\n"
     ]
    },
    {
     "name": "stderr",
     "output_type": "stream",
     "text": [
      " 40%|████      | 100/250 [00:25<00:29,  5.04it/s]"
     ]
    },
    {
     "name": "stdout",
     "output_type": "stream",
     "text": [
      "{'loss': 0.6019, 'grad_norm': 4.28715181350708, 'learning_rate': 6.048387096774194e-05, 'rewards/chosen': 0.29203715920448303, 'rewards/rejected': 0.0756465494632721, 'rewards/accuracies': 0.800000011920929, 'rewards/margins': 0.21639060974121094, 'logps/rejected': -456.062744140625, 'logps/chosen': -471.8343200683594, 'logits/rejected': -106.65008544921875, 'logits/chosen': -107.30985260009766, 'epoch': 2.0}\n"
     ]
    },
    {
     "name": "stderr",
     "output_type": "stream",
     "text": [
      "                                                 \n",
      " 40%|████      | 101/250 [00:30<04:30,  1.82s/it]"
     ]
    },
    {
     "name": "stdout",
     "output_type": "stream",
     "text": [
      "{'eval_loss': 0.6572269201278687, 'eval_runtime': 5.6011, 'eval_samples_per_second': 8.927, 'eval_steps_per_second': 8.927, 'eval_rewards/chosen': 0.2687324583530426, 'eval_rewards/rejected': 0.1480259746313095, 'eval_rewards/accuracies': 0.5600000023841858, 'eval_rewards/margins': 0.1207064837217331, 'eval_logps/rejected': -527.1140747070312, 'eval_logps/chosen': -534.7210083007812, 'eval_logits/rejected': -103.90150451660156, 'eval_logits/chosen': -103.94880676269531, 'epoch': 2.0}\n"
     ]
    },
    {
     "name": "stderr",
     "output_type": "stream",
     "text": [
      " 44%|████▍     | 110/250 [00:32<00:46,  2.98it/s]"
     ]
    },
    {
     "name": "stdout",
     "output_type": "stream",
     "text": [
      "{'loss': 0.4297, 'grad_norm': 1.4451475143432617, 'learning_rate': 5.645161290322582e-05, 'rewards/chosen': 0.7851585149765015, 'rewards/rejected': -0.05872119590640068, 'rewards/accuracies': 1.0, 'rewards/margins': 0.8438796997070312, 'logps/rejected': -270.24249267578125, 'logps/chosen': -447.05743408203125, 'logits/rejected': -103.87776184082031, 'logits/chosen': -106.70621490478516, 'epoch': 2.2}\n"
     ]
    },
    {
     "name": "stderr",
     "output_type": "stream",
     "text": [
      " 48%|████▊     | 121/250 [00:34<00:23,  5.48it/s]"
     ]
    },
    {
     "name": "stdout",
     "output_type": "stream",
     "text": [
      "{'loss': 0.4021, 'grad_norm': 4.207789897918701, 'learning_rate': 5.241935483870968e-05, 'rewards/chosen': 0.9180911183357239, 'rewards/rejected': 0.07327555865049362, 'rewards/accuracies': 1.0, 'rewards/margins': 0.8448154330253601, 'logps/rejected': -516.29248046875, 'logps/chosen': -606.0211181640625, 'logits/rejected': -103.89385986328125, 'logits/chosen': -100.51593017578125, 'epoch': 2.4}\n"
     ]
    },
    {
     "name": "stderr",
     "output_type": "stream",
     "text": [
      " 52%|█████▏    | 130/250 [00:36<00:24,  4.97it/s]"
     ]
    },
    {
     "name": "stdout",
     "output_type": "stream",
     "text": [
      "{'loss': 0.5998, 'grad_norm': 3.7484965324401855, 'learning_rate': 4.8387096774193554e-05, 'rewards/chosen': 0.264229416847229, 'rewards/rejected': 0.0029599727131426334, 'rewards/accuracies': 0.699999988079071, 'rewards/margins': 0.2612694799900055, 'logps/rejected': -386.9115905761719, 'logps/chosen': -320.49603271484375, 'logits/rejected': -109.685791015625, 'logits/chosen': -102.84489440917969, 'epoch': 2.6}\n"
     ]
    },
    {
     "name": "stderr",
     "output_type": "stream",
     "text": [
      " 56%|█████▌    | 140/250 [00:38<00:21,  5.23it/s]"
     ]
    },
    {
     "name": "stdout",
     "output_type": "stream",
     "text": [
      "{'loss': 0.5241, 'grad_norm': 3.6317951679229736, 'learning_rate': 4.435483870967742e-05, 'rewards/chosen': 0.5921363830566406, 'rewards/rejected': 0.1375904381275177, 'rewards/accuracies': 0.800000011920929, 'rewards/margins': 0.45454591512680054, 'logps/rejected': -616.3120727539062, 'logps/chosen': -628.1676025390625, 'logits/rejected': -104.16117858886719, 'logits/chosen': -104.73054504394531, 'epoch': 2.8}\n"
     ]
    },
    {
     "name": "stderr",
     "output_type": "stream",
     "text": [
      " 60%|██████    | 150/250 [00:40<00:19,  5.14it/s]"
     ]
    },
    {
     "name": "stdout",
     "output_type": "stream",
     "text": [
      "{'loss': 0.2929, 'grad_norm': 3.290306806564331, 'learning_rate': 4.032258064516129e-05, 'rewards/chosen': 1.8000768423080444, 'rewards/rejected': 0.06229430437088013, 'rewards/accuracies': 1.0, 'rewards/margins': 1.7377827167510986, 'logps/rejected': -648.747314453125, 'logps/chosen': -758.2987060546875, 'logits/rejected': -104.21501159667969, 'logits/chosen': -104.70890045166016, 'epoch': 3.0}\n"
     ]
    },
    {
     "name": "stderr",
     "output_type": "stream",
     "text": [
      "                                                 \n",
      " 60%|██████    | 150/250 [00:45<00:19,  5.14it/s]"
     ]
    },
    {
     "name": "stdout",
     "output_type": "stream",
     "text": [
      "{'eval_loss': 0.6593425273895264, 'eval_runtime': 5.4692, 'eval_samples_per_second': 9.142, 'eval_steps_per_second': 9.142, 'eval_rewards/chosen': 0.5076034665107727, 'eval_rewards/rejected': 0.28802451491355896, 'eval_rewards/accuracies': 0.6000000238418579, 'eval_rewards/margins': 0.21957899630069733, 'eval_logps/rejected': -525.714111328125, 'eval_logps/chosen': -532.332275390625, 'eval_logits/rejected': -104.10121154785156, 'eval_logits/chosen': -104.1998519897461, 'epoch': 3.0}\n"
     ]
    },
    {
     "name": "stderr",
     "output_type": "stream",
     "text": [
      " 64%|██████▍   | 160/250 [00:47<00:24,  3.73it/s]"
     ]
    },
    {
     "name": "stdout",
     "output_type": "stream",
     "text": [
      "{'loss': 0.3461, 'grad_norm': 5.25862979888916, 'learning_rate': 3.6290322580645165e-05, 'rewards/chosen': 0.9246478080749512, 'rewards/rejected': -0.18454058468341827, 'rewards/accuracies': 0.8999999761581421, 'rewards/margins': 1.1091883182525635, 'logps/rejected': -362.37835693359375, 'logps/chosen': -514.1707763671875, 'logits/rejected': -109.841552734375, 'logits/chosen': -102.17219543457031, 'epoch': 3.2}\n"
     ]
    },
    {
     "name": "stderr",
     "output_type": "stream",
     "text": [
      " 68%|██████▊   | 171/250 [00:49<00:14,  5.48it/s]"
     ]
    },
    {
     "name": "stdout",
     "output_type": "stream",
     "text": [
      "{'loss': 0.3785, 'grad_norm': 1.0248939990997314, 'learning_rate': 3.2258064516129034e-05, 'rewards/chosen': 1.723457932472229, 'rewards/rejected': 0.11199195683002472, 'rewards/accuracies': 1.0, 'rewards/margins': 1.6114660501480103, 'logps/rejected': -438.6693420410156, 'logps/chosen': -491.928955078125, 'logits/rejected': -107.8577651977539, 'logits/chosen': -108.739990234375, 'epoch': 3.4}\n"
     ]
    },
    {
     "name": "stderr",
     "output_type": "stream",
     "text": [
      " 72%|███████▏  | 180/250 [00:51<00:13,  5.07it/s]"
     ]
    },
    {
     "name": "stdout",
     "output_type": "stream",
     "text": [
      "{'loss': 0.2654, 'grad_norm': 2.6088521480560303, 'learning_rate': 2.822580645161291e-05, 'rewards/chosen': 1.7693042755126953, 'rewards/rejected': -0.008112031035125256, 'rewards/accuracies': 1.0, 'rewards/margins': 1.7774162292480469, 'logps/rejected': -511.379150390625, 'logps/chosen': -506.39410400390625, 'logits/rejected': -101.13444519042969, 'logits/chosen': -104.93790435791016, 'epoch': 3.6}\n"
     ]
    },
    {
     "name": "stderr",
     "output_type": "stream",
     "text": [
      " 76%|███████▌  | 190/250 [00:53<00:12,  4.82it/s]"
     ]
    },
    {
     "name": "stdout",
     "output_type": "stream",
     "text": [
      "{'loss': 0.4035, 'grad_norm': 2.226331949234009, 'learning_rate': 2.4193548387096777e-05, 'rewards/chosen': 1.1004655361175537, 'rewards/rejected': 0.17235581576824188, 'rewards/accuracies': 0.800000011920929, 'rewards/margins': 0.9281096458435059, 'logps/rejected': -683.3309326171875, 'logps/chosen': -653.1173095703125, 'logits/rejected': -103.4451904296875, 'logits/chosen': -101.82005310058594, 'epoch': 3.8}\n"
     ]
    },
    {
     "name": "stderr",
     "output_type": "stream",
     "text": [
      " 80%|████████  | 200/250 [00:55<00:08,  5.76it/s]"
     ]
    },
    {
     "name": "stdout",
     "output_type": "stream",
     "text": [
      "{'loss': 0.4044, 'grad_norm': 27.14612579345703, 'learning_rate': 2.0161290322580645e-05, 'rewards/chosen': 0.807060718536377, 'rewards/rejected': -0.17631331086158752, 'rewards/accuracies': 0.8999999761581421, 'rewards/margins': 0.9833739995956421, 'logps/rejected': -445.76837158203125, 'logps/chosen': -574.7772216796875, 'logits/rejected': -104.3066177368164, 'logits/chosen': -102.37110900878906, 'epoch': 4.0}\n"
     ]
    },
    {
     "name": "stderr",
     "output_type": "stream",
     "text": [
      "                                                 \n",
      " 80%|████████  | 200/250 [01:00<00:08,  5.76it/s]"
     ]
    },
    {
     "name": "stdout",
     "output_type": "stream",
     "text": [
      "{'eval_loss': 0.6758760213851929, 'eval_runtime': 5.514, 'eval_samples_per_second': 9.068, 'eval_steps_per_second': 9.068, 'eval_rewards/chosen': 0.6985729932785034, 'eval_rewards/rejected': 0.3991703391075134, 'eval_rewards/accuracies': 0.6000000238418579, 'eval_rewards/margins': 0.2994026243686676, 'eval_logps/rejected': -524.6026611328125, 'eval_logps/chosen': -530.422607421875, 'eval_logits/rejected': -104.1668472290039, 'eval_logits/chosen': -104.30345916748047, 'epoch': 4.0}\n"
     ]
    },
    {
     "name": "stderr",
     "output_type": "stream",
     "text": [
      " 84%|████████▍ | 210/250 [01:02<00:09,  4.00it/s]"
     ]
    },
    {
     "name": "stdout",
     "output_type": "stream",
     "text": [
      "{'loss': 0.2058, 'grad_norm': 3.9651620388031006, 'learning_rate': 1.6129032258064517e-05, 'rewards/chosen': 2.6934170722961426, 'rewards/rejected': 0.016321102157235146, 'rewards/accuracies': 1.0, 'rewards/margins': 2.677096366882324, 'logps/rejected': -470.79669189453125, 'logps/chosen': -594.0243530273438, 'logits/rejected': -104.54737854003906, 'logits/chosen': -105.3989028930664, 'epoch': 4.2}\n"
     ]
    },
    {
     "name": "stderr",
     "output_type": "stream",
     "text": [
      " 88%|████████▊ | 220/250 [01:04<00:05,  5.07it/s]"
     ]
    },
    {
     "name": "stdout",
     "output_type": "stream",
     "text": [
      "{'loss': 0.3463, 'grad_norm': 2.1304078102111816, 'learning_rate': 1.2096774193548388e-05, 'rewards/chosen': 1.0661349296569824, 'rewards/rejected': -0.19288507103919983, 'rewards/accuracies': 0.8999999761581421, 'rewards/margins': 1.2590200901031494, 'logps/rejected': -376.09967041015625, 'logps/chosen': -448.9082946777344, 'logits/rejected': -105.8440933227539, 'logits/chosen': -103.51597595214844, 'epoch': 4.4}\n"
     ]
    },
    {
     "name": "stderr",
     "output_type": "stream",
     "text": [
      " 92%|█████████▏| 230/250 [01:06<00:04,  4.48it/s]"
     ]
    },
    {
     "name": "stdout",
     "output_type": "stream",
     "text": [
      "{'loss': 0.3228, 'grad_norm': 3.359574794769287, 'learning_rate': 8.064516129032258e-06, 'rewards/chosen': 1.241454005241394, 'rewards/rejected': -0.2802111506462097, 'rewards/accuracies': 0.800000011920929, 'rewards/margins': 1.5216652154922485, 'logps/rejected': -548.745849609375, 'logps/chosen': -579.4749755859375, 'logits/rejected': -100.16111755371094, 'logits/chosen': -100.65203857421875, 'epoch': 4.6}\n"
     ]
    },
    {
     "name": "stderr",
     "output_type": "stream",
     "text": [
      " 96%|█████████▋| 241/250 [01:08<00:01,  6.20it/s]"
     ]
    },
    {
     "name": "stdout",
     "output_type": "stream",
     "text": [
      "{'loss': 0.2793, 'grad_norm': 2.430121660232544, 'learning_rate': 4.032258064516129e-06, 'rewards/chosen': 1.7823997735977173, 'rewards/rejected': 0.08173289149999619, 'rewards/accuracies': 1.0, 'rewards/margins': 1.7006667852401733, 'logps/rejected': -532.62451171875, 'logps/chosen': -563.6618041992188, 'logits/rejected': -100.59797668457031, 'logits/chosen': -103.59880065917969, 'epoch': 4.8}\n"
     ]
    },
    {
     "name": "stderr",
     "output_type": "stream",
     "text": [
      "100%|██████████| 250/250 [01:10<00:00,  6.24it/s]"
     ]
    },
    {
     "name": "stdout",
     "output_type": "stream",
     "text": [
      "{'loss': 0.4482, 'grad_norm': 15.074461936950684, 'learning_rate': 0.0, 'rewards/chosen': 0.7776753902435303, 'rewards/rejected': 0.07018172740936279, 'rewards/accuracies': 0.8999999761581421, 'rewards/margins': 0.7074936628341675, 'logps/rejected': -515.4619140625, 'logps/chosen': -541.9573974609375, 'logits/rejected': -115.98561096191406, 'logits/chosen': -107.29295349121094, 'epoch': 5.0}\n"
     ]
    },
    {
     "name": "stderr",
     "output_type": "stream",
     "text": [
      "                                                 \n",
      "100%|██████████| 250/250 [01:16<00:00,  3.28it/s]"
     ]
    },
    {
     "name": "stdout",
     "output_type": "stream",
     "text": [
      "{'eval_loss': 0.683841347694397, 'eval_runtime': 5.204, 'eval_samples_per_second': 9.608, 'eval_steps_per_second': 9.608, 'eval_rewards/chosen': 0.7559468746185303, 'eval_rewards/rejected': 0.43135613203048706, 'eval_rewards/accuracies': 0.6000000238418579, 'eval_rewards/margins': 0.3245907723903656, 'eval_logps/rejected': -524.2808227539062, 'eval_logps/chosen': -529.8488159179688, 'eval_logits/rejected': -104.21774291992188, 'eval_logits/chosen': -104.36482238769531, 'epoch': 5.0}\n",
      "{'train_runtime': 76.1399, 'train_samples_per_second': 3.283, 'train_steps_per_second': 3.283, 'train_loss': 0.4824891271591186, 'epoch': 5.0}\n"
     ]
    },
    {
     "name": "stderr",
     "output_type": "stream",
     "text": [
      "\n"
     ]
    },
    {
     "data": {
      "text/plain": [
       "TrainOutput(global_step=250, training_loss=0.4824891271591186, metrics={'train_runtime': 76.1399, 'train_samples_per_second': 3.283, 'train_steps_per_second': 3.283, 'total_flos': 0.0, 'train_loss': 0.4824891271591186, 'epoch': 5.0})"
      ]
     },
     "execution_count": 16,
     "metadata": {},
     "output_type": "execute_result"
    }
   ],
   "source": [
    "# Start the training process\n",
    "trainer.train()"
   ]
  },
  {
   "cell_type": "code",
   "execution_count": 17,
   "id": "fb5d512c-d0f7-4411-b441-ec1a61868de5",
   "metadata": {},
   "outputs": [
    {
     "name": "stdout",
     "output_type": "stream",
     "text": [
      "unknown option --v\n",
      "usage: python [option] ... [-c cmd | -m mod | file | -] [arg] ...\n",
      "Try `python -h' for more information.\n"
     ]
    }
   ],
   "source": [
    "!python --v"
   ]
  },
  {
   "cell_type": "code",
   "execution_count": 18,
   "id": "45903f0b-58bb-43a1-8403-685f70f47fb0",
   "metadata": {},
   "outputs": [
    {
     "name": "stdout",
     "output_type": "stream",
     "text": [
      "True\n"
     ]
    }
   ],
   "source": [
    "print(hasattr(model, \"generate\"))"
   ]
  },
  {
   "cell_type": "markdown",
   "id": "e3a2c34c-9c18-4687-9895-ddcf0d2ecc69",
   "metadata": {},
   "source": [
    "Let's retrieve and plot the training loss versus evaluation loss.\n"
   ]
  },
  {
   "cell_type": "code",
   "execution_count": 19,
   "id": "97d1dc9f-705f-446b-92f1-d40b360749a4",
   "metadata": {},
   "outputs": [
    {
     "data": {
      "image/png": "[encoded data removed]",
      "text/plain": [
       "<Figure size 640x480 with 1 Axes>"
      ]
     },
     "metadata": {},
     "output_type": "display_data"
    }
   ],
   "source": [
    "# Retrieve log_history and save it to a dataframe\n",
    "log = pd.DataFrame(trainer.state.log_history)\n",
    "log_t = log[log['loss'].notna()]\n",
    "log_e = log[log['eval_loss'].notna()]\n",
    "\n",
    "# Plot train and evaluation losses\n",
    "plt.plot(log_t[\"epoch\"], log_t[\"loss\"], label = \"train_loss\") \n",
    "plt.plot(log_e[\"epoch\"], log_e[\"eval_loss\"], label = \"eval_loss\") \n",
    "plt.legend() \n",
    "plt.show()"
   ]
  },
  {
   "cell_type": "markdown",
   "id": "305d3e78-d5e1-4c61-9a63-bf923591fb7c",
   "metadata": {},
   "source": [
    "![image](https://cf-courses-data.s3.us.cloud-object-storage.appdomain.cloud/7KEnvtpUyNcJTINdArLf7A/loss%20dpo.png)\n"
   ]
  },
  {
   "cell_type": "code",
   "execution_count": 20,
   "id": "c05a7bef-4cb6-4372-8d85-41a57086cc88",
   "metadata": {},
   "outputs": [],
   "source": [
    "# Load the trained DPO model you just trained\n",
    "dpo_model = AutoModelForCausalLM.from_pretrained('./dpo/checkpoint-250')\n"
   ]
  },
  {
   "cell_type": "markdown",
   "id": "9a7f533d-e4fc-45bb-a142-ba2af70eec57",
   "metadata": {},
   "source": [
    "#### Loading trained model\n"
   ]
  },
  {
   "cell_type": "markdown",
   "id": "ad6250e2-f8f2-43a6-876e-f0e58ff1ef3b",
   "metadata": {},
   "source": [
    "If you encounter difficulty in running the training cell due to resource limitations, you can download the model to be fine-tuned: \n"
   ]
  },
  {
   "cell_type": "code",
   "execution_count": 21,
   "id": "aa9098a6-c6f6-4bb4-b36e-06b9ce212b7b",
   "metadata": {},
   "outputs": [
    {
     "name": "stdout",
     "output_type": "stream",
     "text": [
      "Files extracted: ['DPO', 'DPO/adapter_config.json', 'DPO/tokenizer_config.json', 'DPO/merges.txt', 'DPO/adapter_model.safetensors', 'DPO/special_tokens_map.json', 'DPO/training_args.bin', 'DPO/README.md', 'DPO/vocab.json']\n"
     ]
    }
   ],
   "source": [
    "# Define the URL and the filename\n",
    "url = 'https://cf-courses-data.s3.us.cloud-object-storage.appdomain.cloud/YIDeT3qihEpWChdXN_RmTg/DPO-tar.gz'\n",
    "filename = './DPO.tar'\n",
    "\n",
    "# Download the file\n",
    "response = requests.get(url)\n",
    "\n",
    "# Save the file locally\n",
    "with open(filename, 'wb') as f:\n",
    "    f.write(response.content)\n",
    "\n",
    "# Extract the tar file\n",
    "if tarfile.is_tarfile(filename):\n",
    "    with tarfile.open(filename, 'r') as tar:\n",
    "        tar.extractall()\n",
    "        print(\"Files extracted:\", tar.getnames())\n",
    "else:\n",
    "    print(\"The adownloaded file is not a tar file.\")"
   ]
  },
  {
   "cell_type": "markdown",
   "id": "2705899e-e01d-43b8-991f-4fbce9fb700e",
   "metadata": {},
   "source": [
    "Then, load it into the model for further inference:\n"
   ]
  },
  {
   "cell_type": "code",
   "execution_count": 22,
   "id": "7ecea602-72c7-4071-88a4-76bddbe47ee4",
   "metadata": {},
   "outputs": [],
   "source": [
    "# Load the trained DPO model tiy just trained\n",
    "dpo_model = AutoModelForCausalLM.from_pretrained('./DPO')\n"
   ]
  },
  {
   "cell_type": "markdown",
   "id": "72e5ec7e-1ae5-48a9-9e63-b1180b0e042b",
   "metadata": {},
   "source": [
    "### Generation\n"
   ]
  },
  {
   "cell_type": "code",
   "execution_count": 23,
   "id": "d993736f-e8c7-44ba-9b83-f3feaa7996f5",
   "metadata": {},
   "outputs": [],
   "source": [
    "# Load the GPT-2 tokenizer\n",
    "tokenizer = GPT2Tokenizer.from_pretrained('gpt2')"
   ]
  },
  {
   "cell_type": "code",
   "execution_count": 24,
   "id": "4e92681c-7ea8-4103-937d-6cf8e45448b5",
   "metadata": {},
   "outputs": [
    {
     "name": "stdout",
     "output_type": "stream",
     "text": [
      "DPO response:\t Is a higher octane gasoline better for your car?\n",
      "\n",
      "The answer is yes. The higher octane gasoline is better for your car.\n",
      "\n",
      "The higher octane gasoline\n",
      "\n",
      "GPT2 response:\t Is a higher octane gasoline better for your car?\n",
      "\n",
      "The answer is yes. The higher octane gasoline is more efficient and more fuel efficient.\n",
      "\n",
      "The higher oct\n"
     ]
    }
   ],
   "source": [
    "# Set a seed for reproducibility\n",
    "set_seed(42)\n",
    "\n",
    "\n",
    "# Define the generation configuration for the DPO model\n",
    "# This sets the parameters for text generation\n",
    "generation_config = GenerationConfig(\n",
    "        # Use sampling to generate diverse text\n",
    "        do_sample=True,\n",
    "        # Top-k sampling parameter\n",
    "        top_k=1,\n",
    "        # Temperature parameter to control the randomness of the generated text\n",
    "        temperature=0.1,\n",
    "        # Maximum number of new tokens to generate\n",
    "        max_new_tokens=25,\n",
    "        # Use the end-of-sequence token as the padding token\n",
    "        pad_token_id=tokenizer.eos_token_id\n",
    "    )\n",
    "\n",
    "# Define the input prompt for text generation\n",
    "PROMPT = \"Is a higher octane gasoline better for your car?\"\n",
    "# Encode the prompt using the tokenizer\n",
    "inputs = tokenizer(PROMPT, return_tensors='pt')\n",
    "\n",
    "# Generate text using the DPO model\n",
    "outputs = dpo_model.generate(**inputs, generation_config=generation_config)\n",
    "# Decode the generated text and print it\n",
    "print(\"DPO response:\\t\",tokenizer.decode(outputs[0], skip_special_tokens=True))\n",
    "\n",
    "# Load the pre-trained GPT-2 model\n",
    "gpt2_model = AutoModelForCausalLM.from_pretrained('gpt2')\n",
    "# Generate text using the GPT-2 model\n",
    "outputs = gpt2_model.generate(**inputs, generation_config=generation_config)\n",
    "# Decode the generated text and print it\n",
    "print(\"\\nGPT2 response:\\t\",tokenizer.decode(outputs[0], skip_special_tokens=True))"
   ]
  },
  {
   "cell_type": "markdown",
   "id": "eadacd93-bc91-4dca-a849-4a589aa08ab3",
   "metadata": {},
   "source": [
    "Althought the model is trained on a small data for 5 epochs only, it can be seen that the response generated by the DPO-tuned model is more concise and straightforward.\n"
   ]
  },
  {
   "cell_type": "markdown",
   "id": "5bf59ca9-20fa-4f6b-acdd-425d69b8d9ae",
   "metadata": {},
   "source": [
    "# Exercise\n",
    "\n"
   ]
  },
  {
   "cell_type": "markdown",
   "id": "d03d1c03-c914-4671-8d74-f22cab88198b",
   "metadata": {},
   "source": [
    "### Exercise 1: Preprocess the `argilla/ultrafeedback-binarized-preferences-cleaned` Dataset\n"
   ]
  },
  {
   "cell_type": "markdown",
   "id": "606b49ed-9a93-4006-850d-b36b3b7acde5",
   "metadata": {},
   "source": [
    "This data set comprises user-generated prompts along with corresponding responses categorized as either \"chosen\" or \"rejected.\" It provides a rich source of binary feedback, making it ideal for training models to align with user preferences.\n"
   ]
  },
  {
   "cell_type": "markdown",
   "id": "89d8ae0c-3f3e-4b7b-8032-d62068af0852",
   "metadata": {},
   "source": [
    "##### Load the data set from the `argilla/ultrafeedback-binarized-preferences-cleaned`\n"
   ]
  },
  {
   "cell_type": "code",
   "execution_count": 25,
   "id": "e3633e96-5cec-4615-aabf-a3ad76ca9261",
   "metadata": {},
   "outputs": [
    {
     "name": "stderr",
     "output_type": "stream",
     "text": [
      "Generating train split: 100%|██████████| 60917/60917 [00:00<00:00, 139646.07 examples/s]\n"
     ]
    }
   ],
   "source": [
    "#TODO\n",
    "dataset = load_dataset(\"argilla/ultrafeedback-binarized-preferences-cleaned\")"
   ]
  },
  {
   "cell_type": "markdown",
   "id": "2d5c1fc4-6be9-42ca-bc35-875d3f5f6db3",
   "metadata": {},
   "source": [
    "<details>\n",
    "    <summary>Click here for hint</summary>\n",
    "\n",
    "```python\n",
    "dataset = load_dataset(\"argilla/ultrafeedback-binarized-preferences-cleaned\")\n",
    "```\n",
    "\n",
    "</details>\n"
   ]
  },
  {
   "cell_type": "code",
   "execution_count": 26,
   "id": "aa8504d0-f2d7-452f-a3f5-ea2ea953c73a",
   "metadata": {},
   "outputs": [
    {
     "data": {
      "text/plain": [
       "Dataset({\n",
       "    features: ['source', 'prompt', 'chosen', 'chosen-rating', 'chosen-model', 'rejected', 'rejected-rating', 'rejected-model'],\n",
       "    num_rows: 60917\n",
       "})"
      ]
     },
     "execution_count": 26,
     "metadata": {},
     "output_type": "execute_result"
    }
   ],
   "source": [
    "dataset['train']"
   ]
  },
  {
   "cell_type": "markdown",
   "id": "3a1b6964-32f8-4630-8e34-f47c94ef00fc",
   "metadata": {},
   "source": [
    "##### Set the variable cnt to 50 and then select the first 50 (cnt) examples to reduce the volume of data for resource limitations.\n"
   ]
  },
  {
   "cell_type": "code",
   "execution_count": 27,
   "id": "21a43e02-885f-4a33-9bcb-447aa89b744c",
   "metadata": {},
   "outputs": [],
   "source": [
    "#TODO\n",
    "cnt = 50  # You can adjust this count based on your requirements\n",
    "\n",
    "# Select the first 5% of examples\n",
    "dataset['train'] = dataset['train'].select(range(cnt))"
   ]
  },
  {
   "cell_type": "markdown",
   "id": "a1b8ac02-5b5b-405e-9619-8dd01a5f1b1a",
   "metadata": {},
   "source": [
    "<details>\n",
    "    <summary>Click here for hint</summary>\n",
    "\n",
    "```python\n",
    "cnt = 50  # You can adjust this count based on your requirements\n",
    "\n",
    "# Select the first 5% of examples\n",
    "dataset['train'] = dataset['train'].select(range(cnt))\n",
    "```\n",
    "\n",
    "</details>\n"
   ]
  },
  {
   "cell_type": "markdown",
   "id": "e4d709f7-567a-4814-b935-5096fcbefaa8",
   "metadata": {},
   "source": [
    "##### Create a function named `process` that takes a row of data as input. Within this function, remove unwanted columns such as `source, chosen-rating, chosen-model, rejected-rating, and rejected-model`. Then, use the map function to apply the process function to each row in the training data set.\n"
   ]
  },
  {
   "cell_type": "code",
   "execution_count": 28,
   "id": "89cc661b-96be-4981-ab73-82ed82954f7c",
   "metadata": {},
   "outputs": [
    {
     "name": "stderr",
     "output_type": "stream",
     "text": [
      "Map (num_proc=16): 100%|██████████| 50/50 [00:00<00:00, 251.84 examples/s]\n"
     ]
    }
   ],
   "source": [
    "#TODO\n",
    "\n",
    "def process(row):\n",
    "    # Delete unwanted columns\n",
    "    del row[\"source\"]\n",
    "    del row[\"chosen-rating\"]\n",
    "    del row[\"chosen-model\"]\n",
    "    del row[\"rejected-rating\"]\n",
    "    del row[\"rejected-model\"]\n",
    "    \n",
    "    # Retrieve the actual response text\n",
    "    row[\"chosen\"] = row[\"chosen\"][-1][\"content\"]\n",
    "    row[\"rejected\"] = row[\"rejected\"][-1][\"content\"]\n",
    "    \n",
    "    return row\n",
    "\n",
    "# Apply the data processing function to the dataset\n",
    "dataset['train'] = dataset['train'].map(\n",
    "    process,\n",
    "    num_proc=multiprocessing.cpu_count(),\n",
    "    load_from_cache_file=False,\n",
    ")"
   ]
  },
  {
   "cell_type": "markdown",
   "id": "233d0c00-da03-4b6e-960c-5df803537480",
   "metadata": {},
   "source": [
    "<details>\n",
    "    <summary>Click here for hint</summary>\n",
    "\n",
    "```python\n",
    "def process(row):\n",
    "    # Delete unwanted columns\n",
    "    del row[\"source\"]\n",
    "    del row[\"chosen-rating\"]\n",
    "    del row[\"chosen-model\"]\n",
    "    del row[\"rejected-rating\"]\n",
    "    del row[\"rejected-model\"]\n",
    "    \n",
    "    # Retrieve the actual response text\n",
    "    row[\"chosen\"] = row[\"chosen\"][-1][\"content\"]\n",
    "    row[\"rejected\"] = row[\"rejected\"][-1][\"content\"]\n",
    "    \n",
    "    return row\n",
    "\n",
    "# Apply the data processing function to the dataset\n",
    "dataset['train'] = dataset['train'].map(\n",
    "    process,\n",
    "    num_proc=multiprocessing.cpu_count(),\n",
    "    load_from_cache_file=False,\n",
    ")\n",
    "```\n",
    "\n",
    "</details>\n"
   ]
  },
  {
   "cell_type": "markdown",
   "id": "355f45b7-1f8d-4407-b55a-ccaf1daece32",
   "metadata": {},
   "source": [
    "##### Split the data set into training and evaluation sets:\n",
    "Calculate the size for the training set as 80% of the total data. The remaining 20% will be used for evaluation.\n"
   ]
  },
  {
   "cell_type": "code",
   "execution_count": 29,
   "id": "e4944774-2959-49dd-9e9b-82dc3f9e1aaf",
   "metadata": {},
   "outputs": [],
   "source": [
    "#TODO\n",
    "train_size = int(0.8 * len(dataset['train']))  # 80% for training\n",
    "eval_size = len(dataset['train']) - train_size  # Remaining 20% for evaluation\n",
    "\n",
    "train_dataset = dataset['train'].select(range(train_size))\n",
    "eval_dataset = dataset['train'].select(range(train_size, train_size + eval_size))"
   ]
  },
  {
   "cell_type": "markdown",
   "id": "4b6d66f0-7893-4128-865a-bb9a275f956a",
   "metadata": {},
   "source": [
    "<details>\n",
    "    <summary>Click here for hint</summary>\n",
    "\n",
    "```python\n",
    "train_size = int(0.8 * len(dataset['train']))  # 80% for training\n",
    "eval_size = len(dataset['train']) - train_size  # Remaining 20% for evaluation\n",
    "\n",
    "train_dataset = dataset['train'].select(range(train_size))\n",
    "eval_dataset = dataset['train'].select(range(train_size, train_size + eval_size))\n",
    "```\n",
    "\n",
    "</details>\n"
   ]
  },
  {
   "cell_type": "code",
   "execution_count": 30,
   "id": "14688e0f-a1fb-4975-bba1-85e781e37174",
   "metadata": {},
   "outputs": [
    {
     "data": {
      "text/plain": [
       "Dataset({\n",
       "    features: ['prompt', 'chosen', 'rejected'],\n",
       "    num_rows: 40\n",
       "})"
      ]
     },
     "execution_count": 30,
     "metadata": {},
     "output_type": "execute_result"
    }
   ],
   "source": [
    "train_dataset"
   ]
  },
  {
   "cell_type": "code",
   "execution_count": 31,
   "id": "cd5d2fb5-4bad-413f-aa31-3627fce17cf5",
   "metadata": {},
   "outputs": [
    {
     "data": {
      "text/plain": [
       "{'prompt': 'Can you write a C++ program that prompts the user to enter the name of a country and checks if it borders the Mediterranean Sea? Here\\'s some starter code to help you out:\\n#include <iostream>\\n#include <string>\\nusing namespace std;\\nint main() {\\n    string country;\\n    // prompt user for input\\n    cout << \"Enter the name of a country: \";\\n    cin >> country;\\n    // check if country borders the Mediterranean Sea\\n    // [C++ code]\\n    return 0;\\n}',\n",
       " 'chosen': 'Here\\'s a C++ program that prompts the user to enter the name of a country and checks if it borders the Mediterranean Sea:\\n\\n#include <iostream>\\n#include <string>\\n#include <set>\\n#include <map>\\n#include <algorithm>\\n\\nusing namespace std;\\n\\nint main() {\\n    // store countries and their bordering seas in a map\\n    map<string, set<string>> countries;\\n    countries[\"Algeria\"] = {\"Mediterranean Sea\", \"North African Coast\"};\\n    countries[\"France\"] = {\"Mediterranean Sea\", \"English Channel\"};\\n    countries[\"Italy\"] = {\"Mediterranean Sea\", \"Adriatic Sea\"};\\n    countries[\"Malta\"] = {\"Mediterranean Sea\", \"North African Coast\"};\\n    countries[\"Spain\"] = {\"Mediterranean Sea\", \"Atlantic Ocean\"};\\n    countries[\"Tunisia\"] = {\"Mediterranean Sea\", \"North African Coast\"};\\n\\n    string country;\\n    cout << \"Enter the name of a country: \";\\n    cin >> country;\\n\\n    // check if country is in the map\\n    if (countries.find(country)!= countries.end()) {\\n        // check if country borders the Mediterranean Sea\\n        set<string> borders = countries.at(country);\\n        if (borders.find(\"Mediterranean Sea\")!= borders.end()) {\\n            cout << country << \" borders the Mediterranean Sea.\" << endl;\\n        } else {\\n            cout << country << \" does not border the Mediterranean Sea.\" << endl;\\n        }\\n    } else {\\n        cout << country << \" is not a recognized country.\" << endl;\\n    }\\n\\n    return 0;\\n}\\n\\nIn this program, we first define a map called countries that stores each country\\'s name as a key and a set of its surrounding seas as the value. We use a set to store each sea name so that we can easily check if a country borders a certain sea.\\n\\nWe then present the user with a prompt to enter the name of a country. We use a while loop to ensure that the user enters a valid country name. We check if the country is in the map, and if so, we retrieve its bordering seas from the map.\\n\\nFinally, we check if the Mediterranean Sea is among the set of borders. If it is, we inform the user that the country borders the Mediterranean Sea. If not, we inform the user that the country does not border the Mediterranean Sea.',\n",
       " 'rejected': 'Sure, here is the program using the C++11 algorithm \"cds::algorithm::GreaterEqual\":\\n#include <iostream>\\n#include <string>\\n#include <algorithm>\\n#include <vector>\\n#include <cctype>\\n\\nusing namespace std;\\n\\nint main() {\\n    string country;\\n    cout << \"Enter the name of a country: \";\\n    cin >> country;\\n    std::vector<string> vec;\\n    vec.push_back(country);\\n    size_t index = std::find_if(vec.begin(), vec.end(), [](const string& s) {\\n        return std::any_of(s.begin(), s.end(), [](const char& c) {\\n            return c == \\'}}\\';\\n    });\\n    if (index != vec.end()) {\\n        if ((*index)[0] == \\'M\\') {\\n            cout << \"Country is bordered by the Mediterranean Sea.\" << endl;\\n        } else {\\n            cout << \"Country does not border the Mediterranean Sea.\" << endl;\\n        }\\n    } else {\\n        cout << \"Country is not found.\" << endl;\\n    }\\n    return 0;\\n}'}"
      ]
     },
     "execution_count": 31,
     "metadata": {},
     "output_type": "execute_result"
    }
   ],
   "source": [
    "train_dataset[0]"
   ]
  },
  {
   "cell_type": "markdown",
   "id": "ba7cfc7f-983b-4e08-9072-45d7ed45c5ef",
   "metadata": {},
   "source": [
    "### Exercise 2: Prompt Inferencing and Comparison with GPT-2\n"
   ]
  },
  {
   "cell_type": "code",
   "execution_count": 33,
   "metadata": {},
   "outputs": [],
   "source": [
    "#PROMPT = input()\n",
    "PROMPT = \"Is a higher octane gasoline better for your car?\""
   ]
  },
  {
   "cell_type": "markdown",
   "id": "271077f1-fe25-4ba5-8b86-9ba6691b5297",
   "metadata": {},
   "source": [
    "##### Initialize the GPT-2 Tokenizer\n"
   ]
  },
  {
   "cell_type": "code",
   "execution_count": 34,
   "id": "c5f3d7db-abb1-49aa-bd2e-36da823c7d34",
   "metadata": {},
   "outputs": [],
   "source": [
    "#TODO\n",
    "tokenizer = GPT2Tokenizer.from_pretrained('gpt2')"
   ]
  },
  {
   "cell_type": "markdown",
   "id": "203b17d9-5160-4a0e-a817-3df2fe90c0db",
   "metadata": {},
   "source": [
    "<details>\n",
    "    <summary>Click here for hint</summary>\n",
    "\n",
    "```python\n",
    "tokenizer = GPT2Tokenizer.from_pretrained('gpt2')\n",
    "```\n",
    "\n",
    "</details>\n"
   ]
  },
  {
   "cell_type": "markdown",
   "id": "9a06c491-5156-4175-be18-24747591285b",
   "metadata": {},
   "source": [
    "##### Create a generation_config object to set the parameters for text generation.\n",
    "- do_sample=True    (It enables sampling, which allows for more diverse outputs.)\n",
    "- top_k=1 (It specifies the number of highest probability vocabulary tokens to consider during generation.)\n",
    "- temperature=0.1 (It controls the randomness of the output.)\n",
    "- max_new_tokens=25 (It sets the maximum number of new tokens to generate during inference.)\n",
    "- pad_token_id=tokenizer.eos_token_id (It specifies the token to use for padding.)\n"
   ]
  },
  {
   "cell_type": "code",
   "execution_count": 45,
   "id": "010b2e4c-8bce-4043-b9b2-7d424f611fd4",
   "metadata": {},
   "outputs": [],
   "source": [
    "#TODO\n",
    "generation_config = GenerationConfig(\n",
    "    # Use sampling to generate diverse text\n",
    "    do_sample=True,\n",
    "    # Top-k sampling parameter: controls the number of highest probability tokens to consider\n",
    "    top_k=1,\n",
    "    # Temperature parameter: controls the randomness of the generated text\n",
    "    temperature=0.1,\n",
    "    # Maximum number of new tokens to generate\n",
    "    max_new_tokens=1000,\n",
    "    # Use the end-of-sequence token as the padding token\n",
    "    pad_token_id=tokenizer.eos_token_id\n",
    ")"
   ]
  },
  {
   "cell_type": "markdown",
   "id": "fdedcdce-5177-4b32-8ff6-81afb651db8c",
   "metadata": {},
   "source": [
    "<details>\n",
    "    <summary>Click here for hint</summary>\n",
    "\n",
    "```python\n",
    "generation_config = GenerationConfig(\n",
    "    # Use sampling to generate diverse text\n",
    "    do_sample=True,\n",
    "    # Top-k sampling parameter: controls the number of highest probability tokens to consider\n",
    "    top_k=1,\n",
    "    # Temperature parameter: controls the randomness of the generated text\n",
    "    temperature=0.1,\n",
    "    # Maximum number of new tokens to generate\n",
    "    max_new_tokens=25,\n",
    "    # Use the end-of-sequence token as the padding token\n",
    "    pad_token_id=tokenizer.eos_token_id\n",
    ")\n",
    "```\n",
    "\n",
    "</details>\n"
   ]
  },
  {
   "cell_type": "markdown",
   "id": "b5996e22-2155-4536-8636-5389099c390e",
   "metadata": {},
   "source": [
    "##### Create a function named `generate_dpo_response` that takes a prompt as input and generates a response using the DPO model (`dpo_model`).\n"
   ]
  },
  {
   "cell_type": "code",
   "execution_count": 46,
   "id": "d79f711e-285b-4c46-8482-727f6ff17122",
   "metadata": {},
   "outputs": [],
   "source": [
    "#TODO\n",
    "def generate_dpo_response(prompt):\n",
    "    # Tokenize the prompt\n",
    "    inputs = tokenizer(prompt, return_tensors='pt')\n",
    "\n",
    "    # Generate text using the DPO model\n",
    "    outputs = dpo_model.generate(**inputs, generation_config=generation_config)\n",
    "    \n",
    "    # Decode and return the response\n",
    "    return tokenizer.decode(outputs[0], skip_special_tokens=True)"
   ]
  },
  {
   "cell_type": "markdown",
   "id": "c2b80aa0-40d9-406f-a120-f7d5783b8778",
   "metadata": {},
   "source": [
    "<details>\n",
    "    <summary>Click here for hint</summary>\n",
    "\n",
    "```python\n",
    "def generate_dpo_response(prompt):\n",
    "    # Tokenize the prompt\n",
    "    inputs = tokenizer(prompt, return_tensors='pt')\n",
    "\n",
    "    # Generate text using the DPO model\n",
    "    outputs = dpo_model.generate(**inputs, generation_config=generation_config)\n",
    "    \n",
    "    # Decode and return the response\n",
    "    return tokenizer.decode(outputs[0], skip_special_tokens=True)\n",
    "```\n",
    "\n",
    "</details>\n"
   ]
  },
  {
   "cell_type": "markdown",
   "id": "74f175ee-2444-442c-99b0-1c4c7d6ad2a7",
   "metadata": {},
   "source": [
    "##### Create another function named `generate_gpt2_response` that takes a prompt as input and generates a response using the GPT-2 model (`gpt2_model`).\n"
   ]
  },
  {
   "cell_type": "code",
   "execution_count": 47,
   "id": "b9c9be62-dcb6-4895-8288-9dbc734d0cf0",
   "metadata": {},
   "outputs": [],
   "source": [
    "#TODO\n",
    "def generate_gpt2_response(prompt):\n",
    "    # Tokenize the prompt\n",
    "    inputs = tokenizer(prompt, return_tensors='pt')\n",
    "\n",
    "    # Generate text using the GPT-2 model\n",
    "    outputs = gpt2_model.generate(**inputs, generation_config=generation_config)\n",
    "    \n",
    "    # Decode and return the response\n",
    "    return tokenizer.decode(outputs[0], skip_special_tokens=True)"
   ]
  },
  {
   "cell_type": "markdown",
   "id": "87e1175b-5881-406d-b31e-2491f03ecdd0",
   "metadata": {},
   "source": [
    "<details>\n",
    "    <summary>Click here for hint</summary>\n",
    "\n",
    "```python\n",
    "def generate_gpt2_response(prompt):\n",
    "    # Tokenize the prompt\n",
    "    inputs = tokenizer(prompt, return_tensors='pt')\n",
    "\n",
    "    # Generate text using the GPT-2 model\n",
    "    outputs = gpt2_model.generate(**inputs, generation_config=generation_config)\n",
    "    \n",
    "    # Decode and return the response\n",
    "    return tokenizer.decode(outputs[0], skip_special_tokens=True)\n",
    "```\n",
    "\n",
    "</details>\n"
   ]
  },
  {
   "cell_type": "markdown",
   "id": "2da6ebe2-bd85-4045-bf56-76c1fb224cb1",
   "metadata": {},
   "source": [
    "##### Call both functions with a prompt and compare the responses.\n"
   ]
  },
  {
   "cell_type": "code",
   "execution_count": 48,
   "id": "ce44750b-86f3-46de-a005-d211dc6b6b1e",
   "metadata": {},
   "outputs": [
    {
     "name": "stdout",
     "output_type": "stream",
     "text": [
      "DPO response:\t Is a higher octane gasoline better for your car?\n",
      "\n",
      "The answer is yes. The higher octane gasoline is better for your car.\n",
      "\n",
      "The higher octane gasoline is better for your car.\n",
      "\n",
      "The higher octane gasoline is better for your car.\n",
      "\n",
      "The higher octane gasoline is better for your car.\n",
      "\n",
      "The higher octane gasoline is better for your car.\n",
      "\n",
      "The higher octane gasoline is better for your car.\n",
      "\n",
      "The higher octane gasoline is better for your car.\n",
      "\n",
      "The higher octane gasoline is better for your car.\n",
      "\n",
      "The higher octane gasoline is better for your car.\n",
      "\n",
      "The higher octane gasoline is better for your car.\n",
      "\n",
      "The higher octane gasoline is better for your car.\n",
      "\n",
      "The higher octane gasoline is better for your car.\n",
      "\n",
      "The higher octane gasoline is better for your car.\n",
      "\n",
      "The higher octane gasoline is better for your car.\n",
      "\n",
      "The higher octane gasoline is better for your car.\n",
      "\n",
      "The higher octane gasoline is better for your car.\n",
      "\n",
      "The higher octane gasoline is better for your car.\n",
      "\n",
      "The higher octane gasoline is better for your car.\n",
      "\n",
      "The higher octane gasoline is better for your car.\n",
      "\n",
      "The higher octane gasoline is better for your car.\n",
      "\n",
      "The higher octane gasoline is better for your car.\n",
      "\n",
      "The higher octane gasoline is better for your car.\n",
      "\n",
      "The higher octane gasoline is better for your car.\n",
      "\n",
      "The higher octane gasoline is better for your car.\n",
      "\n",
      "The higher octane gasoline is better for your car.\n",
      "\n",
      "The higher octane gasoline is better for your car.\n",
      "\n",
      "The higher octane gasoline is better for your car.\n",
      "\n",
      "The higher octane gasoline is better for your car.\n",
      "\n",
      "The higher octane gasoline is better for your car.\n",
      "\n",
      "The higher octane gasoline is better for your car.\n",
      "\n",
      "The higher octane gasoline is better for your car.\n",
      "\n",
      "The higher octane gasoline is better for your car.\n",
      "\n",
      "The higher octane gasoline is better for your car.\n",
      "\n",
      "The higher octane gasoline is better for your car.\n",
      "\n",
      "The higher octane gasoline is better for your car.\n",
      "\n",
      "The higher octane gasoline is better for your car.\n",
      "\n",
      "The higher octane gasoline is better for your car.\n",
      "\n",
      "The higher octane gasoline is better for your car.\n",
      "\n",
      "The higher octane gasoline is better for your car.\n",
      "\n",
      "The higher octane gasoline is better for your car.\n",
      "\n",
      "The higher octane gasoline is better for your car.\n",
      "\n",
      "The higher octane gasoline is better for your car.\n",
      "\n",
      "The higher octane gasoline is better for your car.\n",
      "\n",
      "The higher octane gasoline is better for your car.\n",
      "\n",
      "The higher octane gasoline is better for your car.\n",
      "\n",
      "The higher octane gasoline is better for your car.\n",
      "\n",
      "The higher octane gasoline is better for your car.\n",
      "\n",
      "The higher octane gasoline is better for your car.\n",
      "\n",
      "The higher octane gasoline is better for your car.\n",
      "\n",
      "The higher octane gasoline is better for your car.\n",
      "\n",
      "The higher octane gasoline is better for your car.\n",
      "\n",
      "The higher octane gasoline is better for your car.\n",
      "\n",
      "The higher octane gasoline is better for your car.\n",
      "\n",
      "The higher octane gasoline is better for your car.\n",
      "\n",
      "The higher octane gasoline is better for your car.\n",
      "\n",
      "The higher octane gasoline is better for your car.\n",
      "\n",
      "The higher octane gasoline is better for your car.\n",
      "\n",
      "The higher octane gasoline is better for your car.\n",
      "\n",
      "The higher octane gasoline is better for your car.\n",
      "\n",
      "The higher octane gasoline is better for your car.\n",
      "\n",
      "The higher octane gasoline is better for your car.\n",
      "\n",
      "The higher octane gasoline is better for your car.\n",
      "\n",
      "The higher octane gasoline is better for your car.\n",
      "\n",
      "The higher octane gasoline is better for your car.\n",
      "\n",
      "The higher octane gasoline is better for your car.\n",
      "\n",
      "The higher octane gasoline is better for your car.\n",
      "\n",
      "The higher octane gasoline is better for your car.\n",
      "\n",
      "The higher octane gasoline is better for your car.\n",
      "\n",
      "The higher octane gasoline is better for your car.\n",
      "\n",
      "The higher octane gasoline is better for your car.\n",
      "\n",
      "The higher octane gasoline is better for your car.\n",
      "\n",
      "The higher octane gasoline is better for your car.\n",
      "\n",
      "The higher octane gasoline is better for your car.\n",
      "\n",
      "The higher octane gasoline is better for your car.\n",
      "\n",
      "The higher octane gasoline is better for your car.\n",
      "\n",
      "The higher octane gasoline is better for your car.\n",
      "\n",
      "The higher octane gasoline\n",
      "\n",
      "GPT-2 response:\t Is a higher octane gasoline better for your car?\n",
      "\n",
      "The answer is yes. The higher octane gasoline is more efficient and more fuel efficient.\n",
      "\n",
      "The higher octane gasoline is more efficient and more fuel efficient. The higher octane gasoline is more efficient and more fuel efficient. The higher octane gasoline is more efficient and more fuel efficient.\n",
      "\n",
      "The higher octane gasoline is more efficient and more fuel efficient. The higher octane gasoline is more efficient and more fuel efficient.\n",
      "\n",
      "The higher octane gasoline is more efficient and more fuel efficient. The higher octane gasoline is more efficient and more fuel efficient.\n",
      "\n",
      "The higher octane gasoline is more efficient and more fuel efficient. The higher octane gasoline is more efficient and more fuel efficient.\n",
      "\n",
      "The higher octane gasoline is more efficient and more fuel efficient. The higher octane gasoline is more efficient and more fuel efficient.\n",
      "\n",
      "The higher octane gasoline is more efficient and more fuel efficient. The higher octane gasoline is more efficient and more fuel efficient.\n",
      "\n",
      "The higher octane gasoline is more efficient and more fuel efficient. The higher octane gasoline is more efficient and more fuel efficient.\n",
      "\n",
      "The higher octane gasoline is more efficient and more fuel efficient. The higher octane gasoline is more efficient and more fuel efficient.\n",
      "\n",
      "The higher octane gasoline is more efficient and more fuel efficient. The higher octane gasoline is more efficient and more fuel efficient.\n",
      "\n",
      "The higher octane gasoline is more efficient and more fuel efficient. The higher octane gasoline is more efficient and more fuel efficient.\n",
      "\n",
      "The higher octane gasoline is more efficient and more fuel efficient. The higher octane gasoline is more efficient and more fuel efficient.\n",
      "\n",
      "The higher octane gasoline is more efficient and more fuel efficient. The higher octane gasoline is more efficient and more fuel efficient.\n",
      "\n",
      "The higher octane gasoline is more efficient and more fuel efficient. The higher octane gasoline is more efficient and more fuel efficient.\n",
      "\n",
      "The higher octane gasoline is more efficient and more fuel efficient. The higher octane gasoline is more efficient and more fuel efficient.\n",
      "\n",
      "The higher octane gasoline is more efficient and more fuel efficient. The higher octane gasoline is more efficient and more fuel efficient.\n",
      "\n",
      "The higher octane gasoline is more efficient and more fuel efficient. The higher octane gasoline is more efficient and more fuel efficient.\n",
      "\n",
      "The higher octane gasoline is more efficient and more fuel efficient. The higher octane gasoline is more efficient and more fuel efficient.\n",
      "\n",
      "The higher octane gasoline is more efficient and more fuel efficient. The higher octane gasoline is more efficient and more fuel efficient.\n",
      "\n",
      "The higher octane gasoline is more efficient and more fuel efficient. The higher octane gasoline is more efficient and more fuel efficient.\n",
      "\n",
      "The higher octane gasoline is more efficient and more fuel efficient. The higher octane gasoline is more efficient and more fuel efficient.\n",
      "\n",
      "The higher octane gasoline is more efficient and more fuel efficient. The higher octane gasoline is more efficient and more fuel efficient.\n",
      "\n",
      "The higher octane gasoline is more efficient and more fuel efficient. The higher octane gasoline is more efficient and more fuel efficient.\n",
      "\n",
      "The higher octane gasoline is more efficient and more fuel efficient. The higher octane gasoline is more efficient and more fuel efficient.\n",
      "\n",
      "The higher octane gasoline is more efficient and more fuel efficient. The higher octane gasoline is more efficient and more fuel efficient.\n",
      "\n",
      "The higher octane gasoline is more efficient and more fuel efficient. The higher octane gasoline is more efficient and more fuel efficient.\n",
      "\n",
      "The higher octane gasoline is more efficient and more fuel efficient. The higher octane gasoline is more efficient and more fuel efficient.\n",
      "\n",
      "The higher octane gasoline is more efficient and more fuel efficient. The higher octane gasoline is more efficient and more fuel efficient.\n",
      "\n",
      "The higher octane gasoline is more efficient and more fuel efficient. The higher octane gasoline is more efficient and more fuel efficient.\n",
      "\n",
      "The higher octane gasoline is more efficient and more fuel efficient. The higher octane gasoline is more efficient and more fuel efficient.\n",
      "\n",
      "The higher octane gasoline is more efficient and more fuel efficient. The higher octane gasoline is more efficient and more fuel efficient.\n",
      "\n",
      "The higher octane gasoline is more efficient and more fuel efficient. The higher octane gasoline is more efficient and more fuel efficient.\n",
      "\n",
      "The higher octane gasoline is more efficient and more fuel efficient. The higher octane gasoline is more efficient and more fuel efficient.\n",
      "\n",
      "The higher octane gasoline is more efficient and more fuel efficient. The higher octane gasoline is more efficient and more fuel efficient.\n",
      "\n",
      "The higher octane gasoline is more efficient and more fuel efficient. The higher octane gasoline is more efficient and more fuel efficient.\n",
      "\n",
      "The higher octane gasoline is more efficient and more fuel efficient.\n"
     ]
    }
   ],
   "source": [
    "#TODO\n",
    "dpo_response = generate_dpo_response(PROMPT)\n",
    "gpt2_response = generate_gpt2_response(PROMPT)\n",
    "\n",
    "# Print the responses\n",
    "print(\"DPO response:\\t\", dpo_response)\n",
    "print(\"\\nGPT-2 response:\\t\", gpt2_response)"
   ]
  },
  {
   "cell_type": "markdown",
   "id": "aa6edd4b-182e-4469-b190-f8731b6ec316",
   "metadata": {},
   "source": [
    "\n",
    "\n",
    "<details>\n",
    "    <summary>Click here for hint</summary>\n",
    "\n",
    "```python\n",
    "# Generate responses\n",
    "dpo_response = generate_dpo_response(PROMPT)\n",
    "gpt2_response = generate_gpt2_response(PROMPT)\n",
    "\n",
    "# Print the responses\n",
    "print(\"DPO response:\\t\", dpo_response)\n",
    "print(\"\\nGPT-2 response:\\t\", gpt2_response)\n",
    "```\n",
    "\n",
    "</details>\n"
   ]
  },
  {
   "cell_type": "markdown",
   "id": "f4854f50-448d-4a25-8c16-bc14f09f9adc",
   "metadata": {},
   "source": [
    "# Congratulations! You have completed the lab!\n"
   ]
  },
  {
   "cell_type": "markdown",
   "id": "64065a11-8bf1-4868-abe1-fdb396fe1a7b",
   "metadata": {},
   "source": [
    "## Authors\n"
   ]
  },
  {
   "cell_type": "markdown",
   "id": "a2ac0879-04e6-4cb3-ae2d-a5fff0bfa033",
   "metadata": {},
   "source": [
    "[Fateme Akbari](https://www.linkedin.com/in/fatemeakbari/) is a Ph.D. candidate in Information Systems at McMaster University with demonstrated research experience in Machine Learning and NLP.\n",
    "\n",
    "[Kunal Makwana](https://author.skills.network/instructors/kunal_makwana) is a Data Scientist at IBM and is currently pursuing his Master's in Computer Science at Dalhousie University.\n"
   ]
  },
  {
   "cell_type": "markdown",
   "id": "af25e5b8-269b-4fdb-b021-18bc7fd369d7",
   "metadata": {},
   "source": [
    "## References\n",
    "[DPO Trainer](https://huggingface.co/docs/trl/main/en/dpo_trainer)\n"
   ]
  },
  {
   "cell_type": "markdown",
   "id": "07042a7b-fbca-4bdc-a628-2f8af4cbf061",
   "metadata": {},
   "source": [
    "© Copyright IBM Corporation. All rights reserved.\n"
   ]
  }
 ],
 "metadata": {
  "kernelspec": {
   "display_name": "torch-env",
   "language": "python",
   "name": "python3"
  },
  "language_info": {
   "codemirror_mode": {
    "name": "ipython",
    "version": 3
   },
   "file_extension": ".py",
   "mimetype": "text/x-python",
   "name": "python",
   "nbconvert_exporter": "python",
   "pygments_lexer": "ipython3",
   "version": "3.10.18"
  },
  "prev_pub_hash": "1423db1b9601de50ab6ef871a2b0ccf668561a79fd2c376658de979b10985706"
 },
 "nbformat": 4,
 "nbformat_minor": 4
}
